{
  "cells": [
    {
      "cell_type": "markdown",
      "metadata": {
        "id": "view-in-github",
        "colab_type": "text"
      },
      "source": [
        "<a href=\"https://colab.research.google.com/github/johyunkang/ADP_certificate_preperation/blob/main/ADP_practical_23.ipynb\" target=\"_parent\"><img src=\"https://colab.research.google.com/assets/colab-badge.svg\" alt=\"Open In Colab\"/></a>"
      ]
    },
    {
      "cell_type": "markdown",
      "metadata": {
        "id": "abqOzh5_x4QY"
      },
      "source": [
        "# ADP 실기 23회"
      ]
    },
    {
      "cell_type": "markdown",
      "metadata": {
        "id": "VgII8XR0x4Qa"
      },
      "source": [
        "## 기계학습 (50점)"
      ]
    },
    {
      "cell_type": "markdown",
      "metadata": {
        "id": "dLHkbg5Ax4Qb"
      },
      "source": [
        "### 1번"
      ]
    },
    {
      "cell_type": "markdown",
      "metadata": {
        "id": "oBfZVHcAx4Qb"
      },
      "source": [
        "온,습도,조도,CO2농도에 따른 객실의 사용유무 판별\n",
        "\n",
        "\n",
        "종속변수 Occupancy, 0: 비어있음 , 1: 사용중\n",
        "\n",
        "\n",
        "데이터 출처 : https://archive.ics.uci.edu/ml/datasets/Occupancy+Detection+\n",
        "\n",
        "\n",
        "data Url : https://raw.githubusercontent.com/Datamanim/datarepo/main/adp/p1/problem1.csv"
      ]
    },
    {
      "cell_type": "code",
      "execution_count": 13,
      "metadata": {
        "scrolled": true,
        "colab": {
          "base_uri": "https://localhost:8080/",
          "height": 206
        },
        "id": "vfd1XrP4x4Qc",
        "outputId": "e8055075-d3ec-448b-d91d-aa306f493061"
      },
      "outputs": [
        {
          "output_type": "execute_result",
          "data": {
            "text/plain": [
              "                  date  Temperature  Humidity       Light     CO2  \\\n",
              "0  2015-02-02 14:19:59      23.7180    26.290  578.400000  760.40   \n",
              "1  2015-02-02 14:22:00      23.7225    26.125  493.750000  774.75   \n",
              "2  2015-02-02 14:23:00      23.7540    26.200  488.600000  779.00   \n",
              "3  2015-02-02 14:23:59      23.7600    26.260  568.666667  790.00   \n",
              "4  2015-02-02 14:25:59      23.7540    26.290  509.000000  797.00   \n",
              "\n",
              "   HumidityRatio  Occupancy  \n",
              "0       0.004773          1  \n",
              "1       0.004744          1  \n",
              "2       0.004767          1  \n",
              "3       0.004779          1  \n",
              "4       0.004783          1  "
            ],
            "text/html": [
              "\n",
              "  <div id=\"df-40c95791-668a-4010-8ca3-dbadbb4b4dd3\">\n",
              "    <div class=\"colab-df-container\">\n",
              "      <div>\n",
              "<style scoped>\n",
              "    .dataframe tbody tr th:only-of-type {\n",
              "        vertical-align: middle;\n",
              "    }\n",
              "\n",
              "    .dataframe tbody tr th {\n",
              "        vertical-align: top;\n",
              "    }\n",
              "\n",
              "    .dataframe thead th {\n",
              "        text-align: right;\n",
              "    }\n",
              "</style>\n",
              "<table border=\"1\" class=\"dataframe\">\n",
              "  <thead>\n",
              "    <tr style=\"text-align: right;\">\n",
              "      <th></th>\n",
              "      <th>date</th>\n",
              "      <th>Temperature</th>\n",
              "      <th>Humidity</th>\n",
              "      <th>Light</th>\n",
              "      <th>CO2</th>\n",
              "      <th>HumidityRatio</th>\n",
              "      <th>Occupancy</th>\n",
              "    </tr>\n",
              "  </thead>\n",
              "  <tbody>\n",
              "    <tr>\n",
              "      <th>0</th>\n",
              "      <td>2015-02-02 14:19:59</td>\n",
              "      <td>23.7180</td>\n",
              "      <td>26.290</td>\n",
              "      <td>578.400000</td>\n",
              "      <td>760.40</td>\n",
              "      <td>0.004773</td>\n",
              "      <td>1</td>\n",
              "    </tr>\n",
              "    <tr>\n",
              "      <th>1</th>\n",
              "      <td>2015-02-02 14:22:00</td>\n",
              "      <td>23.7225</td>\n",
              "      <td>26.125</td>\n",
              "      <td>493.750000</td>\n",
              "      <td>774.75</td>\n",
              "      <td>0.004744</td>\n",
              "      <td>1</td>\n",
              "    </tr>\n",
              "    <tr>\n",
              "      <th>2</th>\n",
              "      <td>2015-02-02 14:23:00</td>\n",
              "      <td>23.7540</td>\n",
              "      <td>26.200</td>\n",
              "      <td>488.600000</td>\n",
              "      <td>779.00</td>\n",
              "      <td>0.004767</td>\n",
              "      <td>1</td>\n",
              "    </tr>\n",
              "    <tr>\n",
              "      <th>3</th>\n",
              "      <td>2015-02-02 14:23:59</td>\n",
              "      <td>23.7600</td>\n",
              "      <td>26.260</td>\n",
              "      <td>568.666667</td>\n",
              "      <td>790.00</td>\n",
              "      <td>0.004779</td>\n",
              "      <td>1</td>\n",
              "    </tr>\n",
              "    <tr>\n",
              "      <th>4</th>\n",
              "      <td>2015-02-02 14:25:59</td>\n",
              "      <td>23.7540</td>\n",
              "      <td>26.290</td>\n",
              "      <td>509.000000</td>\n",
              "      <td>797.00</td>\n",
              "      <td>0.004783</td>\n",
              "      <td>1</td>\n",
              "    </tr>\n",
              "  </tbody>\n",
              "</table>\n",
              "</div>\n",
              "      <button class=\"colab-df-convert\" onclick=\"convertToInteractive('df-40c95791-668a-4010-8ca3-dbadbb4b4dd3')\"\n",
              "              title=\"Convert this dataframe to an interactive table.\"\n",
              "              style=\"display:none;\">\n",
              "        \n",
              "  <svg xmlns=\"http://www.w3.org/2000/svg\" height=\"24px\"viewBox=\"0 0 24 24\"\n",
              "       width=\"24px\">\n",
              "    <path d=\"M0 0h24v24H0V0z\" fill=\"none\"/>\n",
              "    <path d=\"M18.56 5.44l.94 2.06.94-2.06 2.06-.94-2.06-.94-.94-2.06-.94 2.06-2.06.94zm-11 1L8.5 8.5l.94-2.06 2.06-.94-2.06-.94L8.5 2.5l-.94 2.06-2.06.94zm10 10l.94 2.06.94-2.06 2.06-.94-2.06-.94-.94-2.06-.94 2.06-2.06.94z\"/><path d=\"M17.41 7.96l-1.37-1.37c-.4-.4-.92-.59-1.43-.59-.52 0-1.04.2-1.43.59L10.3 9.45l-7.72 7.72c-.78.78-.78 2.05 0 2.83L4 21.41c.39.39.9.59 1.41.59.51 0 1.02-.2 1.41-.59l7.78-7.78 2.81-2.81c.8-.78.8-2.07 0-2.86zM5.41 20L4 18.59l7.72-7.72 1.47 1.35L5.41 20z\"/>\n",
              "  </svg>\n",
              "      </button>\n",
              "      \n",
              "  <style>\n",
              "    .colab-df-container {\n",
              "      display:flex;\n",
              "      flex-wrap:wrap;\n",
              "      gap: 12px;\n",
              "    }\n",
              "\n",
              "    .colab-df-convert {\n",
              "      background-color: #E8F0FE;\n",
              "      border: none;\n",
              "      border-radius: 50%;\n",
              "      cursor: pointer;\n",
              "      display: none;\n",
              "      fill: #1967D2;\n",
              "      height: 32px;\n",
              "      padding: 0 0 0 0;\n",
              "      width: 32px;\n",
              "    }\n",
              "\n",
              "    .colab-df-convert:hover {\n",
              "      background-color: #E2EBFA;\n",
              "      box-shadow: 0px 1px 2px rgba(60, 64, 67, 0.3), 0px 1px 3px 1px rgba(60, 64, 67, 0.15);\n",
              "      fill: #174EA6;\n",
              "    }\n",
              "\n",
              "    [theme=dark] .colab-df-convert {\n",
              "      background-color: #3B4455;\n",
              "      fill: #D2E3FC;\n",
              "    }\n",
              "\n",
              "    [theme=dark] .colab-df-convert:hover {\n",
              "      background-color: #434B5C;\n",
              "      box-shadow: 0px 1px 3px 1px rgba(0, 0, 0, 0.15);\n",
              "      filter: drop-shadow(0px 1px 2px rgba(0, 0, 0, 0.3));\n",
              "      fill: #FFFFFF;\n",
              "    }\n",
              "  </style>\n",
              "\n",
              "      <script>\n",
              "        const buttonEl =\n",
              "          document.querySelector('#df-40c95791-668a-4010-8ca3-dbadbb4b4dd3 button.colab-df-convert');\n",
              "        buttonEl.style.display =\n",
              "          google.colab.kernel.accessAllowed ? 'block' : 'none';\n",
              "\n",
              "        async function convertToInteractive(key) {\n",
              "          const element = document.querySelector('#df-40c95791-668a-4010-8ca3-dbadbb4b4dd3');\n",
              "          const dataTable =\n",
              "            await google.colab.kernel.invokeFunction('convertToInteractive',\n",
              "                                                     [key], {});\n",
              "          if (!dataTable) return;\n",
              "\n",
              "          const docLinkHtml = 'Like what you see? Visit the ' +\n",
              "            '<a target=\"_blank\" href=https://colab.research.google.com/notebooks/data_table.ipynb>data table notebook</a>'\n",
              "            + ' to learn more about interactive tables.';\n",
              "          element.innerHTML = '';\n",
              "          dataTable['output_type'] = 'display_data';\n",
              "          await google.colab.output.renderOutput(dataTable, element);\n",
              "          const docLink = document.createElement('div');\n",
              "          docLink.innerHTML = docLinkHtml;\n",
              "          element.appendChild(docLink);\n",
              "        }\n",
              "      </script>\n",
              "    </div>\n",
              "  </div>\n",
              "  "
            ]
          },
          "metadata": {},
          "execution_count": 13
        }
      ],
      "source": [
        "import pandas as pd\n",
        "df = pd.read_csv('https://raw.githubusercontent.com/Datamanim/datarepo/main/adp/p1/problem1.csv')\n",
        "df.head()"
      ]
    },
    {
      "cell_type": "markdown",
      "metadata": {
        "id": "Vn46zSprx4Qd"
      },
      "source": [
        "#### 1-1 번"
      ]
    },
    {
      "cell_type": "markdown",
      "metadata": {
        "id": "WgoOcdmBx4Qe"
      },
      "source": [
        " 데이터 EDA 수행 후, 분석가 입장에서 의미있는 탐색"
      ]
    },
    {
      "cell_type": "code",
      "execution_count": 14,
      "metadata": {
        "colab": {
          "base_uri": "https://localhost:8080/",
          "height": 668
        },
        "id": "7rPiKfTSx4Qe",
        "outputId": "442dbc6e-dba1-4dac-a7f1-a7422f261c04"
      },
      "outputs": [
        {
          "output_type": "stream",
          "name": "stdout",
          "text": [
            "<class 'pandas.core.frame.DataFrame'>\n",
            "RangeIndex: 17910 entries, 0 to 17909\n",
            "Data columns (total 7 columns):\n",
            " #   Column         Non-Null Count  Dtype  \n",
            "---  ------         --------------  -----  \n",
            " 0   date           17910 non-null  object \n",
            " 1   Temperature    17910 non-null  float64\n",
            " 2   Humidity       17910 non-null  float64\n",
            " 3   Light          17910 non-null  float64\n",
            " 4   CO2            17889 non-null  float64\n",
            " 5   HumidityRatio  17910 non-null  float64\n",
            " 6   Occupancy      17910 non-null  int64  \n",
            "dtypes: float64(5), int64(1), object(1)\n",
            "memory usage: 979.6+ KB\n",
            "None\n",
            "\n",
            "결측치가 일부 존재하며 데이터 타입은 date 컬럼을 제외하고 모두 float형식이다\n",
            "\n"
          ]
        },
        {
          "output_type": "display_data",
          "data": {
            "text/plain": [
              "date              0\n",
              "Temperature       0\n",
              "Humidity          0\n",
              "Light             0\n",
              "CO2              21\n",
              "HumidityRatio     0\n",
              "Occupancy         0\n",
              "dtype: int64"
            ]
          },
          "metadata": {}
        },
        {
          "output_type": "stream",
          "name": "stdout",
          "text": [
            "\n",
            "['2015-02-03 19:09:59' '2015-02-03 19:31:00' '2015-02-04 18:08:00'\n",
            " '2015-02-05 06:08:00' '2015-02-05 16:09:59' '2015-02-08 08:06:00'\n",
            " '2015-02-08 11:54:00' '2015-02-08 20:58:59' '2015-02-09 06:04:59'\n",
            " '2015-02-09 07:31:00' '2015-02-09 07:49:00' '2015-02-10 07:53:59'\n",
            " '2015-02-12 00:34:00' '2015-02-12 10:53:00' '2015-02-12 15:04:00'\n",
            " '2015-02-12 20:38:00' '2015-02-13 22:53:59' '2015-02-15 16:41:59'\n",
            " '2015-02-16 00:53:59' '2015-02-17 01:56:00' '2015-02-18 06:20:00']\n",
            "\n",
            "결측치는 CO2 컬럼에만 존재한다. 결측치의 데이터는 연속적으로 존재하는 것이 아니다.\n"
          ]
        }
      ],
      "source": [
        "import pandas as pd\n",
        "\n",
        "print(df.info())\n",
        "print('''\n",
        "결측치가 일부 존재하며 데이터 타입은 date 컬럼을 제외하고 모두 float형식이다\n",
        "''')\n",
        "\n",
        "# print(df.isnull().sum())\n",
        "display(df.isnull().sum()) \n",
        "# Q. 위 print 와 display 의 차이는 뭐지?\n",
        "# DF를 출력해보면 print는 단순 글자처럼 나오고, display 는 표처럼 나옴\n",
        "print()\n",
        "print(df[df.CO2.isnull()].date.values)\n",
        "print('\\n결측치는 CO2 컬럼에만 존재한다. 결측치의 데이터는 연속적으로 존재하는 것이 아니다.')"
      ]
    },
    {
      "cell_type": "code",
      "execution_count": null,
      "metadata": {
        "id": "x5LwdABlx4Qf"
      },
      "outputs": [],
      "source": [
        "import seaborn as sns\n",
        "import matplotlib.pyplot as plt\n",
        "\n",
        "sns.pairplot(df)\n",
        "plt.show()\n",
        "\n",
        "# hue 옵션을 이용해 특정 컬럼명을 입력하면 종류에 따른 색상 구분을 할 수 있음\n",
        "# vars 옵션을 이용해 특정 컬럼만 나타나게 할 수 있음\n",
        "sns.pairplot(df, hue='Occupancy', vars=['Temperature', 'Humidity', 'HumidityRatio']) \n",
        "plt.show()"
      ]
    },
    {
      "cell_type": "code",
      "execution_count": null,
      "metadata": {
        "id": "tu9-GDzZx4Qf"
      },
      "outputs": [],
      "source": [
        "for v in df.select_dtypes(include='float'):\n",
        "    target = df[v].dropna()\n",
        "    plt.boxplot(target)\n",
        "    plt.title(v)\n",
        "    plt.show()\n",
        "    \n",
        "print('''\n",
        "Humidity, humidityRatio 컬럼은 높은 상관관계를 보이며, \n",
        "두 컬럼을 제외한 나머지 데이터의 경우 이상치가 상대적으로 많이 존재한다.\n",
        "''')"
      ]
    },
    {
      "cell_type": "code",
      "execution_count": null,
      "metadata": {
        "id": "vDvanfk9x4Qg"
      },
      "outputs": [],
      "source": [
        "display(df[df.Light < 0].shape)\n",
        "display(df[df.Light == -99].shape)\n",
        "display(df.describe())\n",
        "print('''\n",
        "Light 컬럼의 경우 -99 인 값이 50개 존재한다.\n",
        "''')"
      ]
    },
    {
      "cell_type": "code",
      "execution_count": null,
      "metadata": {
        "id": "s_Hl5hYfx4Qg"
      },
      "outputs": [],
      "source": [
        "df['date'] = pd.to_datetime(df['date'])\n",
        "timedeltas = df['date'].diff().dt.seconds.dropna()\n",
        "print(timedeltas.describe())\n",
        "print()\n",
        "print('''\n",
        "75%의 데이터가 연속하는 데이터 사이에 61초 이내의 시간 차이를 가지고 있다.\n",
        "연속된 데이터간의 최대 시간 차이는 25680초로 대략 7시간 차이가 존재한다.\n",
        "시계열 데이터로 데이터를 해석할 경우 이 사이 시간들은 결측치로 볼 수 있다.\n",
        "''')\n",
        "\n",
        "print(25680 / 3600)"
      ]
    },
    {
      "cell_type": "markdown",
      "metadata": {
        "id": "TsenrovUx4Qh"
      },
      "source": [
        "#### 1-2번"
      ]
    },
    {
      "cell_type": "markdown",
      "metadata": {
        "id": "3dU1LBACx4Qh"
      },
      "source": [
        "결측치를 대체하는 방식 선택하고 근거제시, 대체 수행"
      ]
    },
    {
      "cell_type": "code",
      "execution_count": null,
      "metadata": {
        "id": "Bfi_L30Gx4Qh"
      },
      "outputs": [],
      "source": [
        "print('''\n",
        "CO2 컬럼에 nan 값으로 비어있는 데이터는 직전, 직후 데이터를 비교해서 Occupancy 값이 변화되지 않거나,\n",
        "date 값이 3분 이내로 연속하는 데이터라고 한다면 직전 CO2값으로 대체한다.\n",
        "위의 두 기준에 해당한다면 모든 CO2의 결측치를 대체 할 수 있고 \n",
        "데이터의 품질을 손상 시키지 않는다고 판단 할 수 있다.\n",
        "''')\n",
        "\n",
        "for value in df[df['CO2'].isnull()].index :\n",
        "    target = df.iloc[value-1 : value+2]\n",
        "    difftime = target['date'].diff().dt.seconds.dropna()\n",
        "    if target.Occupancy.nunique() == 1 and len(difftime[difftime > 180]) == 0 :\n",
        "        df.loc[value, 'CO2'] = df.loc[value-1].CO2\n",
        "        \n",
        "display(df.isnull().sum())"
      ]
    },
    {
      "cell_type": "code",
      "execution_count": null,
      "metadata": {
        "id": "Kr1U1Q6xx4Qh"
      },
      "outputs": [],
      "source": []
    },
    {
      "cell_type": "code",
      "execution_count": null,
      "metadata": {
        "id": "UOwPAsTkx4Qi"
      },
      "outputs": [],
      "source": []
    },
    {
      "cell_type": "code",
      "execution_count": null,
      "metadata": {
        "id": "v9mAaIWFx4Qi"
      },
      "outputs": [],
      "source": []
    },
    {
      "cell_type": "code",
      "execution_count": null,
      "metadata": {
        "id": "gp65ELIax4Qi"
      },
      "outputs": [],
      "source": []
    },
    {
      "cell_type": "code",
      "execution_count": null,
      "metadata": {
        "id": "Qi6cvrwQx4Qi"
      },
      "outputs": [],
      "source": []
    }
  ],
  "metadata": {
    "kernelspec": {
      "display_name": "Python 3",
      "language": "python",
      "name": "python3"
    },
    "language_info": {
      "codemirror_mode": {
        "name": "ipython",
        "version": 3
      },
      "file_extension": ".py",
      "mimetype": "text/x-python",
      "name": "python",
      "nbconvert_exporter": "python",
      "pygments_lexer": "ipython3",
      "version": "3.8.5"
    },
    "colab": {
      "provenance": [],
      "collapsed_sections": [],
      "include_colab_link": true
    }
  },
  "nbformat": 4,
  "nbformat_minor": 0
}
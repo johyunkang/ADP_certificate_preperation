{
  "cells": [
    {
      "cell_type": "markdown",
      "metadata": {
        "id": "view-in-github",
        "colab_type": "text"
      },
      "source": [
        "<a href=\"https://colab.research.google.com/github/johyunkang/ADP_certificate_preperation/blob/main/stat_test_01.ipynb\" target=\"_parent\"><img src=\"https://colab.research.google.com/assets/colab-badge.svg\" alt=\"Open In Colab\"/></a>"
      ]
    },
    {
      "cell_type": "code",
      "execution_count": null,
      "id": "a1e3d935",
      "metadata": {
        "id": "a1e3d935"
      },
      "outputs": [],
      "source": [
        "# pip install pulp==2.5.0"
      ]
    },
    {
      "cell_type": "markdown",
      "id": "366135ca",
      "metadata": {
        "id": "366135ca"
      },
      "source": [
        "### 27회. 지하철 호선과 월별 승객 수 간 상관관계가 있는지 확인 (Type3 ANOVA 상요)\n"
      ]
    },
    {
      "cell_type": "markdown",
      "id": "0128d8f5",
      "metadata": {
        "id": "0128d8f5"
      },
      "source": [
        "- 1. 귀무가설과 대립가설을 설정하라"
      ]
    },
    {
      "cell_type": "code",
      "execution_count": null,
      "id": "930c3655",
      "metadata": {
        "id": "930c3655",
        "outputId": "cee92b36-4d2e-43ea-d796-bb1e679c32cf"
      },
      "outputs": [
        {
          "name": "stdout",
          "output_type": "stream",
          "text": [
            "\n",
            "1. 상호작용효과 검정에 대한 가설\n",
            "- 귀무가설(H0): 지하철 호선과 월별, 승객 수 간 상관관계가 없다.\n",
            "- 대립가설(H1): 지하철 호선과 월별, 승객 수 간 상관관계가 있다.\n",
            "\n",
            "2. 주효과 검정에 대한 가설(2개)\n",
            " - 귀무가설(H0): 지하철 호선과 승객 수 차이는 존재하지 않는다.\n",
            " - 대립가설(H1): 자하철 호선과 승객 수 차이는 존재한다.\n",
            " \n",
            " - 귀무가설(H0): 월별 승객 수 차이는 존재하지 않는다.\n",
            " - 대립가설(H1): 월별 승객 수 차이는 존재한다.\n",
            "\n"
          ]
        }
      ],
      "source": [
        "print('''\n",
        "1. 상호작용효과 검정에 대한 가설\n",
        "- 귀무가설(H0): 지하철 호선과 월별, 승객 수 간 상관관계가 없다.\n",
        "- 대립가설(H1): 지하철 호선과 월별, 승객 수 간 상관관계가 있다.\n",
        "\n",
        "2. 주효과 검정에 대한 가설(2개)\n",
        " - 귀무가설(H0): 지하철 호선과 승객 수 차이는 존재하지 않는다.\n",
        " - 대립가설(H1): 자하철 호선과 승객 수 차이는 존재한다.\n",
        " \n",
        " - 귀무가설(H0): 월별 승객 수 차이는 존재하지 않는다.\n",
        " - 대립가설(H1): 월별 승객 수 차이는 존재한다.\n",
        "''')"
      ]
    },
    {
      "cell_type": "markdown",
      "id": "0c4c177d",
      "metadata": {
        "id": "0c4c177d"
      },
      "source": [
        "- 2. 통계량을 구하고, 대립가설 채택 여부를 기술하라"
      ]
    },
    {
      "cell_type": "code",
      "execution_count": null,
      "id": "860b311a",
      "metadata": {
        "id": "860b311a",
        "outputId": "3d46c0a9-f62f-4af7-c3e6-759f67fadda0"
      },
      "outputs": [
        {
          "data": {
            "text/html": [
              "<div>\n",
              "<style scoped>\n",
              "    .dataframe tbody tr th:only-of-type {\n",
              "        vertical-align: middle;\n",
              "    }\n",
              "\n",
              "    .dataframe tbody tr th {\n",
              "        vertical-align: top;\n",
              "    }\n",
              "\n",
              "    .dataframe thead th {\n",
              "        text-align: right;\n",
              "    }\n",
              "</style>\n",
              "<table border=\"1\" class=\"dataframe\">\n",
              "  <thead>\n",
              "    <tr style=\"text-align: right;\">\n",
              "      <th></th>\n",
              "      <th>line</th>\n",
              "      <th>month</th>\n",
              "      <th>total</th>\n",
              "    </tr>\n",
              "  </thead>\n",
              "  <tbody>\n",
              "    <tr>\n",
              "      <th>0</th>\n",
              "      <td>1</td>\n",
              "      <td>1</td>\n",
              "      <td>1310</td>\n",
              "    </tr>\n",
              "    <tr>\n",
              "      <th>1</th>\n",
              "      <td>1</td>\n",
              "      <td>2</td>\n",
              "      <td>1300</td>\n",
              "    </tr>\n",
              "    <tr>\n",
              "      <th>2</th>\n",
              "      <td>1</td>\n",
              "      <td>3</td>\n",
              "      <td>1305</td>\n",
              "    </tr>\n",
              "    <tr>\n",
              "      <th>3</th>\n",
              "      <td>1</td>\n",
              "      <td>4</td>\n",
              "      <td>1200</td>\n",
              "    </tr>\n",
              "    <tr>\n",
              "      <th>4</th>\n",
              "      <td>1</td>\n",
              "      <td>5</td>\n",
              "      <td>1301</td>\n",
              "    </tr>\n",
              "    <tr>\n",
              "      <th>...</th>\n",
              "      <td>...</td>\n",
              "      <td>...</td>\n",
              "      <td>...</td>\n",
              "    </tr>\n",
              "    <tr>\n",
              "      <th>67</th>\n",
              "      <td>3</td>\n",
              "      <td>8</td>\n",
              "      <td>1365</td>\n",
              "    </tr>\n",
              "    <tr>\n",
              "      <th>68</th>\n",
              "      <td>3</td>\n",
              "      <td>9</td>\n",
              "      <td>1374</td>\n",
              "    </tr>\n",
              "    <tr>\n",
              "      <th>69</th>\n",
              "      <td>3</td>\n",
              "      <td>10</td>\n",
              "      <td>1337</td>\n",
              "    </tr>\n",
              "    <tr>\n",
              "      <th>70</th>\n",
              "      <td>3</td>\n",
              "      <td>11</td>\n",
              "      <td>1332</td>\n",
              "    </tr>\n",
              "    <tr>\n",
              "      <th>71</th>\n",
              "      <td>3</td>\n",
              "      <td>12</td>\n",
              "      <td>1343</td>\n",
              "    </tr>\n",
              "  </tbody>\n",
              "</table>\n",
              "<p>72 rows × 3 columns</p>\n",
              "</div>"
            ],
            "text/plain": [
              "    line  month  total\n",
              "0      1      1   1310\n",
              "1      1      2   1300\n",
              "2      1      3   1305\n",
              "3      1      4   1200\n",
              "4      1      5   1301\n",
              "..   ...    ...    ...\n",
              "67     3      8   1365\n",
              "68     3      9   1374\n",
              "69     3     10   1337\n",
              "70     3     11   1332\n",
              "71     3     12   1343\n",
              "\n",
              "[72 rows x 3 columns]"
            ]
          },
          "execution_count": 4,
          "metadata": {},
          "output_type": "execute_result"
        }
      ],
      "source": [
        "from statsmodels.formula.api import ols\n",
        "from statsmodels.stats.anova import anova_lm\n",
        "import pandas as pd\n",
        "import numpy as np\n",
        "\n",
        "DATA_URL = 'https://raw.githubusercontent.com/ADPclass/ADP_book_ver01/main/data/'\n",
        "df = pd.read_csv(DATA_URL+'27_problem9.csv')\n",
        "df"
      ]
    },
    {
      "cell_type": "code",
      "execution_count": null,
      "id": "b44c2d59",
      "metadata": {
        "id": "b44c2d59",
        "outputId": "2b776ce6-4f49-43fa-e0e6-497a314247fb"
      },
      "outputs": [
        {
          "data": {
            "text/html": [
              "<div>\n",
              "<style scoped>\n",
              "    .dataframe tbody tr th:only-of-type {\n",
              "        vertical-align: middle;\n",
              "    }\n",
              "\n",
              "    .dataframe tbody tr th {\n",
              "        vertical-align: top;\n",
              "    }\n",
              "\n",
              "    .dataframe thead th {\n",
              "        text-align: right;\n",
              "    }\n",
              "</style>\n",
              "<table border=\"1\" class=\"dataframe\">\n",
              "  <thead>\n",
              "    <tr style=\"text-align: right;\">\n",
              "      <th></th>\n",
              "      <th>sum_sq</th>\n",
              "      <th>df</th>\n",
              "      <th>F</th>\n",
              "      <th>PR(&gt;F)</th>\n",
              "    </tr>\n",
              "  </thead>\n",
              "  <tbody>\n",
              "    <tr>\n",
              "      <th>Intercept</th>\n",
              "      <td>3.466344e+06</td>\n",
              "      <td>1.0</td>\n",
              "      <td>33455.335657</td>\n",
              "      <td>4.849033e-55</td>\n",
              "    </tr>\n",
              "    <tr>\n",
              "      <th>C(line)</th>\n",
              "      <td>1.336630e+05</td>\n",
              "      <td>2.0</td>\n",
              "      <td>645.022520</td>\n",
              "      <td>6.417946e-29</td>\n",
              "    </tr>\n",
              "    <tr>\n",
              "      <th>C(month)</th>\n",
              "      <td>3.942483e+04</td>\n",
              "      <td>11.0</td>\n",
              "      <td>34.591616</td>\n",
              "      <td>7.896179e-16</td>\n",
              "    </tr>\n",
              "    <tr>\n",
              "      <th>C(line):C(month)</th>\n",
              "      <td>9.696908e+04</td>\n",
              "      <td>22.0</td>\n",
              "      <td>42.540665</td>\n",
              "      <td>1.582232e-19</td>\n",
              "    </tr>\n",
              "    <tr>\n",
              "      <th>Residual</th>\n",
              "      <td>3.730000e+03</td>\n",
              "      <td>36.0</td>\n",
              "      <td>NaN</td>\n",
              "      <td>NaN</td>\n",
              "    </tr>\n",
              "  </tbody>\n",
              "</table>\n",
              "</div>"
            ],
            "text/plain": [
              "                        sum_sq    df             F        PR(>F)\n",
              "Intercept         3.466344e+06   1.0  33455.335657  4.849033e-55\n",
              "C(line)           1.336630e+05   2.0    645.022520  6.417946e-29\n",
              "C(month)          3.942483e+04  11.0     34.591616  7.896179e-16\n",
              "C(line):C(month)  9.696908e+04  22.0     42.540665  1.582232e-19\n",
              "Residual          3.730000e+03  36.0           NaN           NaN"
            ]
          },
          "execution_count": 5,
          "metadata": {},
          "output_type": "execute_result"
        }
      ],
      "source": [
        "formula = 'total ~ C(line)*C(month)'\n",
        "model = ols(formula, data=df).fit()\n",
        "aov_table = anova_lm(model, typ=3)\n",
        "aov_table"
      ]
    },
    {
      "cell_type": "code",
      "execution_count": null,
      "id": "2c24f133",
      "metadata": {
        "id": "2c24f133",
        "outputId": "ae8962a3-5cbd-429f-d937-2aa1960d24a6"
      },
      "outputs": [
        {
          "name": "stdout",
          "output_type": "stream",
          "text": [
            "\n",
            "유의수준 0.1 하에서\n",
            " - 상호작용효과 검정에 대한 가설은 p-value가 0.1 보다 작기에\n",
            "   귀무가설을 기각한다. 즉 지하철 호선과 월별, 승객 수 간 상관관계\n",
            "   가 있다.\n",
            "   \n",
            " - 주효과 검정에 대한 가설 2개는 모두 p-value가 유의수준 0.1 보다\n",
            "   작기에 귀무가설을 기각한다. 즉, 지하철 호선과 승객 수 차이는\n",
            "   존재하며, 월별승객 수 차이 또한 존재한다.\n",
            "   \n",
            "교호작용을 먼저 검정하는 Type3 ANOVA의 경우 아래 시각화 자료를\n",
            "통해 상관관계를 한눈에 알 수 있다.\n",
            "\n"
          ]
        }
      ],
      "source": [
        "print('''\n",
        "유의수준 0.1 하에서\n",
        " - 상호작용효과 검정에 대한 가설은 p-value가 0.1 보다 작기에\n",
        "   귀무가설을 기각한다. 즉 지하철 호선과 월별, 승객 수 간 상관관계\n",
        "   가 있다.\n",
        "   \n",
        " - 주효과 검정에 대한 가설 2개는 모두 p-value가 유의수준 0.1 보다\n",
        "   작기에 귀무가설을 기각한다. 즉, 지하철 호선과 승객 수 차이는\n",
        "   존재하며, 월별승객 수 차이 또한 존재한다.\n",
        "   \n",
        "교호작용을 먼저 검정하는 Type3 ANOVA의 경우 아래 시각화 자료를\n",
        "통해 상관관계를 한눈에 알 수 있다.\n",
        "''')"
      ]
    },
    {
      "cell_type": "code",
      "execution_count": null,
      "id": "ad710a81",
      "metadata": {
        "id": "ad710a81",
        "outputId": "dd8eab38-c9b1-49fa-cde7-fa508fac16b0"
      },
      "outputs": [
        {
          "data": {
            "image/png": "[encoded data removed]",
            "text/plain": [
              "<Figure size 600x600 with 1 Axes>"
            ]
          },
          "metadata": {},
          "output_type": "display_data"
        }
      ],
      "source": [
        "from statsmodels.graphics.factorplots import interaction_plot\n",
        "import matplotlib.pyplot as plt\n",
        "import warnings\n",
        "warnings.filterwarnings(action='ignore')\n",
        "\n",
        "total = df['total']\n",
        "line = df['line']\n",
        "month = df['month']\n",
        "\n",
        "fig, ax = plt.subplots(figsize=(6,6))\n",
        "fig = interaction_plot(month, line, total, ms=10, ax=ax)"
      ]
    },
    {
      "cell_type": "code",
      "execution_count": null,
      "id": "290ad68d",
      "metadata": {
        "scrolled": true,
        "id": "290ad68d",
        "outputId": "fe0b824f-0cd2-47b3-b37b-bd5a95eca858"
      },
      "outputs": [
        {
          "name": "stdout",
          "output_type": "stream",
          "text": [
            "\n",
            "인터랙션 그래프를 보았을 때, month와 line에 따라 승객수의 그래프가\n",
            "교차하는 지점이 없이 평행해야지 인터랙션이 없다고 할 수 있지만,\n",
            "해당 그래프에서는 여러 번 교차하므로, 월별 호선이 승객 수에 서로\n",
            "영향을 준다고 할 수 있다.\n",
            "즉, 상관관계가 존재한다고 할 수 있다.\n",
            "\n"
          ]
        }
      ],
      "source": [
        "print('''\n",
        "인터랙션 그래프를 보았을 때, month와 line에 따라 승객수의 그래프가\n",
        "교차하는 지점이 없이 평행해야지 인터랙션이 없다고 할 수 있지만,\n",
        "해당 그래프에서는 여러 번 교차하므로, 월별 호선이 승객 수에 서로\n",
        "영향을 준다고 할 수 있다.\n",
        "즉, 상관관계가 존재한다고 할 수 있다.\n",
        "''')"
      ]
    },
    {
      "cell_type": "markdown",
      "id": "c0d58a0a",
      "metadata": {
        "id": "c0d58a0a"
      },
      "source": [
        "### 26회. 아래 그래프는 1월부터 9월까지의 은의 가격이다."
      ]
    },
    {
      "cell_type": "markdown",
      "id": "8e2d67fe",
      "metadata": {
        "id": "8e2d67fe"
      },
      "source": [
        "- 1. 은의 가격 및 이동평균값 3이 설정된 시계열 그래프를 그려라"
      ]
    },
    {
      "cell_type": "code",
      "execution_count": null,
      "id": "92da9fe3",
      "metadata": {
        "id": "92da9fe3",
        "outputId": "cce694be-5697-432b-88ca-87912b1eef0a"
      },
      "outputs": [
        {
          "data": {
            "text/html": [
              "<div>\n",
              "<style scoped>\n",
              "    .dataframe tbody tr th:only-of-type {\n",
              "        vertical-align: middle;\n",
              "    }\n",
              "\n",
              "    .dataframe tbody tr th {\n",
              "        vertical-align: top;\n",
              "    }\n",
              "\n",
              "    .dataframe thead th {\n",
              "        text-align: right;\n",
              "    }\n",
              "</style>\n",
              "<table border=\"1\" class=\"dataframe\">\n",
              "  <thead>\n",
              "    <tr style=\"text-align: right;\">\n",
              "      <th></th>\n",
              "      <th>1월</th>\n",
              "      <th>2월</th>\n",
              "      <th>3월</th>\n",
              "      <th>4월</th>\n",
              "      <th>5월</th>\n",
              "      <th>6월</th>\n",
              "      <th>7월</th>\n",
              "      <th>8월</th>\n",
              "      <th>9월</th>\n",
              "    </tr>\n",
              "  </thead>\n",
              "  <tbody>\n",
              "    <tr>\n",
              "      <th>value</th>\n",
              "      <td>12.14</td>\n",
              "      <td>42.6</td>\n",
              "      <td>34.4</td>\n",
              "      <td>35.29</td>\n",
              "      <td>30.96</td>\n",
              "      <td>57.12</td>\n",
              "      <td>37.84</td>\n",
              "      <td>42.49</td>\n",
              "      <td>31.38</td>\n",
              "    </tr>\n",
              "  </tbody>\n",
              "</table>\n",
              "</div>"
            ],
            "text/plain": [
              "          1월    2월    3월     4월     5월     6월     7월     8월     9월\n",
              "value  12.14  42.6  34.4  35.29  30.96  57.12  37.84  42.49  31.38"
            ]
          },
          "execution_count": 9,
          "metadata": {},
          "output_type": "execute_result"
        }
      ],
      "source": [
        "df_silver = pd.DataFrame({'1월':[12.14], '2월':[42.6], '3월':[34.4], '4월':[35.29], \n",
        "                         '5월':[30.96], '6월':[57.12], '7월':[37.84], '8월':[42.49], \n",
        "                         '9월':[31.38]})\n",
        "df_silver.index=['value']\n",
        "df_silver"
      ]
    },
    {
      "cell_type": "code",
      "execution_count": null,
      "id": "f1377f6e",
      "metadata": {
        "id": "f1377f6e",
        "outputId": "468f3a7f-dcdf-403e-b194-d1f9b543c0dd"
      },
      "outputs": [
        {
          "data": {
            "text/html": [
              "<div>\n",
              "<style scoped>\n",
              "    .dataframe tbody tr th:only-of-type {\n",
              "        vertical-align: middle;\n",
              "    }\n",
              "\n",
              "    .dataframe tbody tr th {\n",
              "        vertical-align: top;\n",
              "    }\n",
              "\n",
              "    .dataframe thead th {\n",
              "        text-align: right;\n",
              "    }\n",
              "</style>\n",
              "<table border=\"1\" class=\"dataframe\">\n",
              "  <thead>\n",
              "    <tr style=\"text-align: right;\">\n",
              "      <th></th>\n",
              "      <th>value</th>\n",
              "    </tr>\n",
              "  </thead>\n",
              "  <tbody>\n",
              "    <tr>\n",
              "      <th>1월</th>\n",
              "      <td>12.14</td>\n",
              "    </tr>\n",
              "    <tr>\n",
              "      <th>2월</th>\n",
              "      <td>42.60</td>\n",
              "    </tr>\n",
              "    <tr>\n",
              "      <th>3월</th>\n",
              "      <td>34.40</td>\n",
              "    </tr>\n",
              "    <tr>\n",
              "      <th>4월</th>\n",
              "      <td>35.29</td>\n",
              "    </tr>\n",
              "    <tr>\n",
              "      <th>5월</th>\n",
              "      <td>30.96</td>\n",
              "    </tr>\n",
              "    <tr>\n",
              "      <th>6월</th>\n",
              "      <td>57.12</td>\n",
              "    </tr>\n",
              "    <tr>\n",
              "      <th>7월</th>\n",
              "      <td>37.84</td>\n",
              "    </tr>\n",
              "    <tr>\n",
              "      <th>8월</th>\n",
              "      <td>42.49</td>\n",
              "    </tr>\n",
              "    <tr>\n",
              "      <th>9월</th>\n",
              "      <td>31.38</td>\n",
              "    </tr>\n",
              "  </tbody>\n",
              "</table>\n",
              "</div>"
            ],
            "text/plain": [
              "    value\n",
              "1월  12.14\n",
              "2월  42.60\n",
              "3월  34.40\n",
              "4월  35.29\n",
              "5월  30.96\n",
              "6월  57.12\n",
              "7월  37.84\n",
              "8월  42.49\n",
              "9월  31.38"
            ]
          },
          "execution_count": 10,
          "metadata": {},
          "output_type": "execute_result"
        }
      ],
      "source": [
        "df_t = df_silver.T\n",
        "df_t"
      ]
    },
    {
      "cell_type": "code",
      "execution_count": null,
      "id": "7d7b68ae",
      "metadata": {
        "id": "7d7b68ae",
        "outputId": "f77edfec-bda5-4150-d720-68ae9d56c834"
      },
      "outputs": [
        {
          "data": {
            "text/html": [
              "<div>\n",
              "<style scoped>\n",
              "    .dataframe tbody tr th:only-of-type {\n",
              "        vertical-align: middle;\n",
              "    }\n",
              "\n",
              "    .dataframe tbody tr th {\n",
              "        vertical-align: top;\n",
              "    }\n",
              "\n",
              "    .dataframe thead th {\n",
              "        text-align: right;\n",
              "    }\n",
              "</style>\n",
              "<table border=\"1\" class=\"dataframe\">\n",
              "  <thead>\n",
              "    <tr style=\"text-align: right;\">\n",
              "      <th></th>\n",
              "      <th>value</th>\n",
              "      <th>3m</th>\n",
              "    </tr>\n",
              "  </thead>\n",
              "  <tbody>\n",
              "    <tr>\n",
              "      <th>1월</th>\n",
              "      <td>12.14</td>\n",
              "      <td>0.000000</td>\n",
              "    </tr>\n",
              "    <tr>\n",
              "      <th>2월</th>\n",
              "      <td>42.60</td>\n",
              "      <td>0.000000</td>\n",
              "    </tr>\n",
              "    <tr>\n",
              "      <th>3월</th>\n",
              "      <td>34.40</td>\n",
              "      <td>29.713333</td>\n",
              "    </tr>\n",
              "    <tr>\n",
              "      <th>4월</th>\n",
              "      <td>35.29</td>\n",
              "      <td>37.430000</td>\n",
              "    </tr>\n",
              "    <tr>\n",
              "      <th>5월</th>\n",
              "      <td>30.96</td>\n",
              "      <td>33.550000</td>\n",
              "    </tr>\n",
              "    <tr>\n",
              "      <th>6월</th>\n",
              "      <td>57.12</td>\n",
              "      <td>41.123333</td>\n",
              "    </tr>\n",
              "    <tr>\n",
              "      <th>7월</th>\n",
              "      <td>37.84</td>\n",
              "      <td>41.973333</td>\n",
              "    </tr>\n",
              "    <tr>\n",
              "      <th>8월</th>\n",
              "      <td>42.49</td>\n",
              "      <td>45.816667</td>\n",
              "    </tr>\n",
              "    <tr>\n",
              "      <th>9월</th>\n",
              "      <td>31.38</td>\n",
              "      <td>37.236667</td>\n",
              "    </tr>\n",
              "  </tbody>\n",
              "</table>\n",
              "</div>"
            ],
            "text/plain": [
              "    value         3m\n",
              "1월  12.14   0.000000\n",
              "2월  42.60   0.000000\n",
              "3월  34.40  29.713333\n",
              "4월  35.29  37.430000\n",
              "5월  30.96  33.550000\n",
              "6월  57.12  41.123333\n",
              "7월  37.84  41.973333\n",
              "8월  42.49  45.816667\n",
              "9월  31.38  37.236667"
            ]
          },
          "execution_count": 11,
          "metadata": {},
          "output_type": "execute_result"
        }
      ],
      "source": [
        "df_t['3m'] = df_t.rolling(3).mean()\n",
        "df_t['3m'] = df_t['3m'].fillna(0)\n",
        "df_t"
      ]
    },
    {
      "cell_type": "code",
      "execution_count": null,
      "id": "221df7a1",
      "metadata": {
        "id": "221df7a1"
      },
      "outputs": [],
      "source": [
        "# 폰트 적용 (Windows)\n",
        "import matplotlib\n",
        "import matplotlib.font_manager as fm\n",
        "\n",
        "# # fm.get_fontconfig_fonts()\n",
        "# font_location='/System/Library/Fonts/Supplemental/AppleMyungjo.ttf'\n",
        "# font_name=fm.FontProperties(fname=font_location).get_name()\n",
        "# print(font_name)\n",
        "# matplotlib.rc('font', family=font_name)"
      ]
    },
    {
      "cell_type": "code",
      "execution_count": null,
      "id": "17d0b577",
      "metadata": {
        "id": "17d0b577",
        "outputId": "7b0fd246-d43c-413d-d7fd-6c6da1ee4903"
      },
      "outputs": [
        {
          "name": "stdout",
          "output_type": "stream",
          "text": [
            "/System/Library/Fonts/Supplemental/AppleMyungjo.ttf\n"
          ]
        }
      ],
      "source": [
        "# 폰트 찾기\n",
        "import matplotlib.font_manager as fm\n",
        "font_list = fm.findSystemFonts(fontpaths=None, fontext='ttf')\n",
        "\n",
        "for i, fon in enumerate(font_list):\n",
        "    # 명조체 찾기\n",
        "    if 'myun' in fon.lower():\n",
        "        print(fon)"
      ]
    },
    {
      "cell_type": "code",
      "execution_count": null,
      "id": "fb5b82cf",
      "metadata": {
        "id": "fb5b82cf",
        "outputId": "282e6ab2-d9c8-4531-9351-c0cf96d46f5d"
      },
      "outputs": [
        {
          "name": "stdout",
          "output_type": "stream",
          "text": [
            "['AppleMyungjo']\n"
          ]
        },
        {
          "data": {
            "image/png": "[encoded data removed]",
            "text/plain": [
              "<Figure size 640x480 with 1 Axes>"
            ]
          },
          "metadata": {},
          "output_type": "display_data"
        }
      ],
      "source": [
        "# 폰트 적용 (mac os)\n",
        "import matplotlib.pyplot as plt\n",
        "plt.rc('font', family='AppleMyungjo')\n",
        "\n",
        "print(plt.rcParams['font.family'])\n",
        "# plt.plot(df_t['value'])\n",
        "plt.scatter(df_t['value'].index, df_t['value'])\n",
        "plt.plot(df_t['3m'][2:], c='red')\n",
        "plt.show()"
      ]
    },
    {
      "cell_type": "markdown",
      "id": "a976e876",
      "metadata": {
        "id": "a976e876"
      },
      "source": [
        "- 2. 1월 대비 9월의 은의 가격은 몇 % 올랐는가? 소수점 두 번째 자리에서 반올림"
      ]
    },
    {
      "cell_type": "code",
      "execution_count": null,
      "id": "ac37ad9a",
      "metadata": {
        "id": "ac37ad9a",
        "outputId": "6a502edb-6139-4dd8-cc9a-13d10b21936d"
      },
      "outputs": [
        {
          "name": "stdout",
          "output_type": "stream",
          "text": [
            "1월:12.14, 9월:31.38\n",
            "1월 대비 9월 은의 가격은 158.48 % 상승하였다.\n"
          ]
        }
      ],
      "source": [
        "import numpy as np\n",
        "m1 = df_t.loc['1월', 'value']\n",
        "m9 = df_t.loc['9월', 'value']\n",
        "rt = (m9/m1) -1\n",
        "print(f'1월:{m1}, 9월:{m9}')\n",
        "print(f'1월 대비 9월 은의 가격은 {round(rt*100, 2)} % 상승하였다.')"
      ]
    },
    {
      "cell_type": "markdown",
      "id": "85085224",
      "metadata": {
        "id": "85085224"
      },
      "source": [
        "### 25회.\n",
        "\n",
        "1개년 50억원, 2개년 60억원, 3개년 70억원의 예산을 가지고 NPV(순현재가치)가 가장 높아지는 안을 제시하시오"
      ]
    },
    {
      "cell_type": "code",
      "execution_count": null,
      "id": "d74e9009",
      "metadata": {
        "scrolled": true,
        "id": "d74e9009",
        "outputId": "7b333c0c-66c6-47e4-c8ce-a57750abf99a"
      },
      "outputs": [
        {
          "data": {
            "text/html": [
              "<div>\n",
              "<style scoped>\n",
              "    .dataframe tbody tr th:only-of-type {\n",
              "        vertical-align: middle;\n",
              "    }\n",
              "\n",
              "    .dataframe tbody tr th {\n",
              "        vertical-align: top;\n",
              "    }\n",
              "\n",
              "    .dataframe thead th {\n",
              "        text-align: right;\n",
              "    }\n",
              "</style>\n",
              "<table border=\"1\" class=\"dataframe\">\n",
              "  <thead>\n",
              "    <tr style=\"text-align: right;\">\n",
              "      <th></th>\n",
              "      <th>1y</th>\n",
              "      <th>2y</th>\n",
              "      <th>3y</th>\n",
              "    </tr>\n",
              "  </thead>\n",
              "  <tbody>\n",
              "    <tr>\n",
              "      <th>1안</th>\n",
              "      <td>10</td>\n",
              "      <td>20</td>\n",
              "      <td>15</td>\n",
              "    </tr>\n",
              "    <tr>\n",
              "      <th>2안</th>\n",
              "      <td>15</td>\n",
              "      <td>14</td>\n",
              "      <td>19</td>\n",
              "    </tr>\n",
              "    <tr>\n",
              "      <th>3안</th>\n",
              "      <td>12</td>\n",
              "      <td>11</td>\n",
              "      <td>30</td>\n",
              "    </tr>\n",
              "    <tr>\n",
              "      <th>4안</th>\n",
              "      <td>13</td>\n",
              "      <td>25</td>\n",
              "      <td>20</td>\n",
              "    </tr>\n",
              "    <tr>\n",
              "      <th>5안</th>\n",
              "      <td>16</td>\n",
              "      <td>30</td>\n",
              "      <td>24</td>\n",
              "    </tr>\n",
              "  </tbody>\n",
              "</table>\n",
              "</div>"
            ],
            "text/plain": [
              "    1y  2y  3y\n",
              "1안  10  20  15\n",
              "2안  15  14  19\n",
              "3안  12  11  30\n",
              "4안  13  25  20\n",
              "5안  16  30  24"
            ]
          },
          "execution_count": 16,
          "metadata": {},
          "output_type": "execute_result"
        }
      ],
      "source": [
        "# 문제 주어진 데이터\n",
        "import pandas as pd\n",
        "df_npv = pd.DataFrame({'1y':[10, 15, 12, 13, 16],\n",
        "                      '2y':[20, 14, 11, 25, 30],\n",
        "                      '3y':[15, 19, 30, 20, 24]})\n",
        "df_npv.index=['1안', '2안', '3안', '4안', '5안']\n",
        "df_npv"
      ]
    },
    {
      "cell_type": "code",
      "execution_count": null,
      "id": "d93eade8",
      "metadata": {
        "id": "d93eade8",
        "outputId": "eca0bd82-09ce-4195-e402-e3fcdc426e82"
      },
      "outputs": [
        {
          "data": {
            "text/html": [
              "<div>\n",
              "<style scoped>\n",
              "    .dataframe tbody tr th:only-of-type {\n",
              "        vertical-align: middle;\n",
              "    }\n",
              "\n",
              "    .dataframe tbody tr th {\n",
              "        vertical-align: top;\n",
              "    }\n",
              "\n",
              "    .dataframe thead th {\n",
              "        text-align: right;\n",
              "    }\n",
              "</style>\n",
              "<table border=\"1\" class=\"dataframe\">\n",
              "  <thead>\n",
              "    <tr style=\"text-align: right;\">\n",
              "      <th></th>\n",
              "      <th>1y</th>\n",
              "      <th>2y</th>\n",
              "      <th>3y</th>\n",
              "      <th>total</th>\n",
              "    </tr>\n",
              "  </thead>\n",
              "  <tbody>\n",
              "    <tr>\n",
              "      <th>1안</th>\n",
              "      <td>10</td>\n",
              "      <td>20</td>\n",
              "      <td>15</td>\n",
              "      <td>45</td>\n",
              "    </tr>\n",
              "    <tr>\n",
              "      <th>2안</th>\n",
              "      <td>15</td>\n",
              "      <td>14</td>\n",
              "      <td>19</td>\n",
              "      <td>48</td>\n",
              "    </tr>\n",
              "    <tr>\n",
              "      <th>3안</th>\n",
              "      <td>12</td>\n",
              "      <td>11</td>\n",
              "      <td>30</td>\n",
              "      <td>53</td>\n",
              "    </tr>\n",
              "    <tr>\n",
              "      <th>4안</th>\n",
              "      <td>13</td>\n",
              "      <td>25</td>\n",
              "      <td>20</td>\n",
              "      <td>58</td>\n",
              "    </tr>\n",
              "    <tr>\n",
              "      <th>5안</th>\n",
              "      <td>16</td>\n",
              "      <td>30</td>\n",
              "      <td>24</td>\n",
              "      <td>70</td>\n",
              "    </tr>\n",
              "  </tbody>\n",
              "</table>\n",
              "</div>"
            ],
            "text/plain": [
              "    1y  2y  3y  total\n",
              "1안  10  20  15     45\n",
              "2안  15  14  19     48\n",
              "3안  12  11  30     53\n",
              "4안  13  25  20     58\n",
              "5안  16  30  24     70"
            ]
          },
          "execution_count": 17,
          "metadata": {},
          "output_type": "execute_result"
        }
      ],
      "source": [
        "df_npv['total'] = df_npv.sum(axis=1)\n",
        "df_npv"
      ]
    },
    {
      "cell_type": "code",
      "execution_count": null,
      "id": "9d6c7be1",
      "metadata": {
        "scrolled": true,
        "id": "9d6c7be1",
        "outputId": "64ebeb1f-4640-44a3-ffbf-5e9d01c6f4ef"
      },
      "outputs": [
        {
          "name": "stdout",
          "output_type": "stream",
          "text": [
            "Welcome to the CBC MILP Solver \n",
            "Version: 2.10.3 \n",
            "Build Date: Dec 15 2019 \n",
            "\n",
            "command line - /opt/homebrew/lib/python3.9/site-packages/pulp/apis/../solverdir/cbc/osx/64/cbc /var/folders/r7/x_smy14j7xjfkgms9f93wp0r0000gn/T/7c3eb0efc24a48b4bbfc5f73560e1e7d-pulp.mps max branch printingOptions all solution /var/folders/r7/x_smy14j7xjfkgms9f93wp0r0000gn/T/7c3eb0efc24a48b4bbfc5f73560e1e7d-pulp.sol (default strategy 1)\n",
            "At line 2 NAME          MODEL\n",
            "At line 3 ROWS\n",
            "At line 8 COLUMNS\n",
            "At line 39 RHS\n",
            "At line 43 BOUNDS\n",
            "At line 49 ENDATA\n",
            "Problem MODEL has 3 rows, 5 columns and 15 elements\n",
            "Coin0008I MODEL read with 0 errors\n",
            "Continuous objective value is 173.526 - 0.00 seconds\n",
            "Cgl0004I processed model has 3 rows, 5 columns (5 integer (5 of which binary)) and 15 elements\n",
            "Cutoff increment increased from 1e-05 to 0.9999\n",
            "Cbc0038I Initial state - 2 integers unsatisfied sum - 0.675472\n",
            "Cbc0038I Pass   1: suminf.    0.10000 (1) obj. -165.7 iterations 1\n",
            "Cbc0038I Solution found of -118\n",
            "Cbc0038I Before mini branch and bound, 3 integers at bound fixed and 0 continuous\n",
            "Cbc0038I Full problem 3 rows 5 columns, reduced to 0 rows 0 columns\n",
            "Cbc0038I Mini branch and bound did not improve solution (0.00 seconds)\n",
            "Cbc0038I Round again with cutoff of -124.453\n",
            "Cbc0038I Pass   2: suminf.    0.10000 (1) obj. -165.7 iterations 0\n",
            "Cbc0038I Pass   3: suminf.    0.11125 (1) obj. -124.453 iterations 2\n",
            "Cbc0038I Pass   4: suminf.    0.30000 (1) obj. -155 iterations 2\n",
            "Cbc0038I Pass   5: suminf.    0.26361 (1) obj. -124.453 iterations 1\n",
            "Cbc0038I Pass   6: suminf.    0.26361 (1) obj. -124.453 iterations 0\n",
            "Cbc0038I Pass   7: suminf.    0.00000 (0) obj. -159 iterations 2\n",
            "Cbc0038I Solution found of -159\n",
            "Cbc0038I Before mini branch and bound, 2 integers at bound fixed and 0 continuous\n",
            "Cbc0038I Full problem 3 rows 5 columns, reduced to 3 rows 3 columns\n",
            "Cbc0038I Mini branch and bound did not improve solution (0.00 seconds)\n",
            "Cbc0038I Round again with cutoff of -162.705\n",
            "Cbc0038I Pass   8: suminf.    0.10000 (1) obj. -165.7 iterations 0\n",
            "Cbc0038I Pass   9: suminf.    0.75748 (2) obj. -162.705 iterations 2\n",
            "Cbc0038I Pass  10: suminf.    0.68526 (2) obj. -162.705 iterations 1\n",
            "Cbc0038I Pass  11: suminf.    0.09309 (2) obj. -162.705 iterations 1\n",
            "Cbc0038I Pass  12: suminf.    0.09309 (2) obj. -162.705 iterations 0\n",
            "Cbc0038I Pass  13: suminf.    0.09309 (2) obj. -162.705 iterations 0\n",
            "Cbc0038I Pass  14: suminf.    0.55849 (2) obj. -173.023 iterations 3\n",
            "Cbc0038I Pass  15: suminf.    0.58526 (2) obj. -162.705 iterations 2\n",
            "Cbc0038I Pass  16: suminf.    0.58526 (2) obj. -162.705 iterations 0\n",
            "Cbc0038I Pass  17: suminf.    0.23865 (1) obj. -162.705 iterations 1\n",
            "Cbc0038I Pass  18: suminf.    0.67925 (2) obj. -173.264 iterations 2\n",
            "Cbc0038I Pass  19: suminf.    0.03333 (1) obj. -165.667 iterations 2\n",
            "Cbc0038I Pass  20: suminf.    0.07564 (1) obj. -162.705 iterations 1\n",
            "Cbc0038I Pass  21: suminf.    0.03333 (1) obj. -165.667 iterations 1\n",
            "Cbc0038I Pass  22: suminf.    0.03333 (1) obj. -165.667 iterations 0\n",
            "Cbc0038I Pass  23: suminf.    0.67925 (2) obj. -173.264 iterations 2\n",
            "Cbc0038I Pass  24: suminf.    0.58526 (2) obj. -162.705 iterations 1\n",
            "Cbc0038I Pass  25: suminf.    0.58526 (2) obj. -162.705 iterations 0\n",
            "Cbc0038I Pass  26: suminf.    0.23865 (1) obj. -162.705 iterations 1\n",
            "Cbc0038I Pass  27: suminf.    0.67925 (2) obj. -173.264 iterations 2\n",
            "Cbc0038I Pass  28: suminf.    0.55849 (2) obj. -173.023 iterations 1\n",
            "Cbc0038I Pass  29: suminf.    0.55849 (2) obj. -173.023 iterations 0\n",
            "Cbc0038I Pass  30: suminf.    0.58526 (2) obj. -162.705 iterations 2\n",
            "Cbc0038I Pass  31: suminf.    0.58526 (2) obj. -162.705 iterations 0\n",
            "Cbc0038I Pass  32: suminf.    0.23865 (1) obj. -162.705 iterations 1\n",
            "Cbc0038I Pass  33: suminf.    0.67925 (2) obj. -173.264 iterations 2\n",
            "Cbc0038I Pass  34: suminf.    0.67925 (2) obj. -173.264 iterations 0\n",
            "Cbc0038I Pass  35: suminf.    0.67925 (2) obj. -173.264 iterations 0\n",
            "Cbc0038I Pass  36: suminf.    0.55849 (2) obj. -173.023 iterations 1\n",
            "Cbc0038I Pass  37: suminf.    0.55849 (2) obj. -173.023 iterations 0\n",
            "Cbc0038I No solution found this major pass\n",
            "Cbc0038I Before mini branch and bound, 0 integers at bound fixed and 0 continuous\n",
            "Cbc0038I Full problem 3 rows 5 columns, reduced to 3 rows 5 columns\n",
            "Cbc0038I Mini branch and bound did not improve solution (0.00 seconds)\n",
            "Cbc0038I After 0.00 seconds - Feasibility pump exiting with objective of -159 - took 0.00 seconds\n",
            "Cbc0012I Integer solution of -159 found by feasibility pump after 0 iterations and 0 nodes (0.00 seconds)\n",
            "Cbc0038I Full problem 3 rows 5 columns, reduced to 3 rows 3 columns\n",
            "Cbc0006I The LP relaxation is infeasible or too expensive\n",
            "Cbc0013I At root node, 0 cuts changed objective from -173.52642 to -173.52642 in 1 passes\n",
            "Cbc0014I Cut generator 0 (Probing) - 1 row cuts average 0.0 elements, 2 column cuts (2 active)  in 0.000 seconds - new frequency is 1\n",
            "Cbc0014I Cut generator 1 (Gomory) - 0 row cuts average 0.0 elements, 0 column cuts (0 active)  in 0.000 seconds - new frequency is -100\n",
            "Cbc0014I Cut generator 2 (Knapsack) - 0 row cuts average 0.0 elements, 0 column cuts (0 active)  in 0.000 seconds - new frequency is -100\n",
            "Cbc0014I Cut generator 3 (Clique) - 0 row cuts average 0.0 elements, 0 column cuts (0 active)  in 0.000 seconds - new frequency is -100\n",
            "Cbc0014I Cut generator 4 (MixedIntegerRounding2) - 0 row cuts average 0.0 elements, 0 column cuts (0 active)  in 0.000 seconds - new frequency is -100\n",
            "Cbc0014I Cut generator 5 (FlowCover) - 0 row cuts average 0.0 elements, 0 column cuts (0 active)  in 0.000 seconds - new frequency is -100\n",
            "Cbc0014I Cut generator 6 (TwoMirCuts) - 0 row cuts average 0.0 elements, 0 column cuts (0 active)  in 0.000 seconds - new frequency is -100\n",
            "Cbc0014I Cut generator 7 (ZeroHalf) - 0 row cuts average 0.0 elements, 0 column cuts (0 active)  in 0.000 seconds - new frequency is -100\n",
            "Cbc0001I Search completed - best objective -159, took 0 iterations and 0 nodes (0.00 seconds)\n",
            "Cbc0035I Maximum depth 0, 0 variables fixed on reduced cost\n",
            "Cuts at root node changed objective from -173.526 to -173.526\n",
            "Probing was tried 1 times and created 3 cuts of which 0 were active after adding rounds of cuts (0.000 seconds)\n",
            "Gomory was tried 0 times and created 0 cuts of which 0 were active after adding rounds of cuts (0.000 seconds)\n",
            "Knapsack was tried 0 times and created 0 cuts of which 0 were active after adding rounds of cuts (0.000 seconds)\n",
            "Clique was tried 0 times and created 0 cuts of which 0 were active after adding rounds of cuts (0.000 seconds)\n",
            "MixedIntegerRounding2 was tried 0 times and created 0 cuts of which 0 were active after adding rounds of cuts (0.000 seconds)\n",
            "FlowCover was tried 0 times and created 0 cuts of which 0 were active after adding rounds of cuts (0.000 seconds)\n",
            "TwoMirCuts was tried 0 times and created 0 cuts of which 0 were active after adding rounds of cuts (0.000 seconds)\n",
            "ZeroHalf was tried 0 times and created 0 cuts of which 0 were active after adding rounds of cuts (0.000 seconds)\n",
            "\n",
            "Result - Optimal solution found\n",
            "\n",
            "Objective value:                159.00000000\n",
            "Enumerated nodes:               0\n",
            "Total iterations:               0\n",
            "Time (CPU seconds):             0.00\n",
            "Time (Wallclock seconds):       0.02\n",
            "\n",
            "Option for printingOptions changed from normal to all\n",
            "Total time (CPU seconds):       0.00   (Wallclock seconds):       0.02\n",
            "\n",
            "\n",
            "Optimal Solution\n",
            "a1 = 0\n",
            "a2 = 1\n",
            "a3 = 1\n",
            "a4 = 1\n",
            "a5 = 0\n",
            "Maximum profilt : 159\n",
            "\n"
          ]
        }
      ],
      "source": [
        "import pulp\n",
        "import warnings\n",
        "warnings.filterwarnings(action='ignore')\n",
        "\n",
        "prob = pulp.LpProblem('Profit Max', pulp.LpMaximize)\n",
        "\n",
        "a1 = pulp.LpVariable('a1', lowBound=0, upBound=1, cat='Integer')\n",
        "a2 = pulp.LpVariable('a2', lowBound=0, upBound=1, cat='Integer')\n",
        "a3 = pulp.LpVariable('a3', lowBound=0, upBound=1, cat='Integer')\n",
        "a4 = pulp.LpVariable('a4', lowBound=0, upBound=1, cat='Integer')\n",
        "a5 = pulp.LpVariable('a5', lowBound=0, upBound=1, cat='Integer')\n",
        "\n",
        "# 목적함수 정의\n",
        "prob += 45 * a1 + 48 * a2 + 53 * a3 + 58 *a4 + 70 * a5\n",
        "\n",
        "# 부등식 (제약조건) 정의\n",
        "prob += 10*a1 + 15*a2 + 12*a3 + 13*a4 + 16*a5 <= 50\n",
        "prob += 20*a1 + 14*a2 + 11*a3 + 25*a4 + 30*a5 <= 60\n",
        "prob += 15*a1 + 19*a2 + 30*a3 + 20*a4 + 24*a5 <= 70\n",
        "\n",
        "# 문제풀기\n",
        "prob.solve()\n",
        "\n",
        "# 결과출력\n",
        "print(f'''\n",
        "Optimal Solution\n",
        "a1 = {int(a1.value())}\n",
        "a2 = {int(a2.value())}\n",
        "a3 = {int(a3.value())}\n",
        "a4 = {int(a4.value())}\n",
        "a5 = {int(a5.value())}\n",
        "Maximum profilt : {int(prob.objective.value())}\n",
        "''')"
      ]
    },
    {
      "cell_type": "markdown",
      "id": "6c9bc6ef",
      "metadata": {
        "id": "6c9bc6ef"
      },
      "source": [
        "### 25회\n",
        "\n",
        "공장 X, Y, Z의 평균 출하 소요시간을 여러 일자에 거쳐 측정한 데이터이다. 각 공장의 중위수의 차이가 존재하는지 확인하려 한다.\n",
        "\n",
        "- 1. 귀무가설과 연구가설을 제시하시오"
      ]
    },
    {
      "cell_type": "code",
      "execution_count": null,
      "id": "b1e570b0",
      "metadata": {
        "id": "b1e570b0",
        "outputId": "9123b723-e5aa-4d65-e6b2-c86c768b2a97"
      },
      "outputs": [
        {
          "data": {
            "text/html": [
              "<div>\n",
              "<style scoped>\n",
              "    .dataframe tbody tr th:only-of-type {\n",
              "        vertical-align: middle;\n",
              "    }\n",
              "\n",
              "    .dataframe tbody tr th {\n",
              "        vertical-align: top;\n",
              "    }\n",
              "\n",
              "    .dataframe thead th {\n",
              "        text-align: right;\n",
              "    }\n",
              "</style>\n",
              "<table border=\"1\" class=\"dataframe\">\n",
              "  <thead>\n",
              "    <tr style=\"text-align: right;\">\n",
              "      <th></th>\n",
              "      <th>출하 소요시간</th>\n",
              "      <th>공장명</th>\n",
              "      <th>공장별 출하 소요시간 순위</th>\n",
              "    </tr>\n",
              "  </thead>\n",
              "  <tbody>\n",
              "    <tr>\n",
              "      <th>0</th>\n",
              "      <td>71</td>\n",
              "      <td>Z</td>\n",
              "      <td>11</td>\n",
              "    </tr>\n",
              "    <tr>\n",
              "      <th>1</th>\n",
              "      <td>75</td>\n",
              "      <td>X</td>\n",
              "      <td>14</td>\n",
              "    </tr>\n",
              "    <tr>\n",
              "      <th>2</th>\n",
              "      <td>71</td>\n",
              "      <td>X</td>\n",
              "      <td>12</td>\n",
              "    </tr>\n",
              "    <tr>\n",
              "      <th>3</th>\n",
              "      <td>53</td>\n",
              "      <td>Z</td>\n",
              "      <td>1</td>\n",
              "    </tr>\n",
              "    <tr>\n",
              "      <th>4</th>\n",
              "      <td>50</td>\n",
              "      <td>X</td>\n",
              "      <td>1</td>\n",
              "    </tr>\n",
              "  </tbody>\n",
              "</table>\n",
              "</div>"
            ],
            "text/plain": [
              "   출하 소요시간 공장명  공장별 출하 소요시간 순위\n",
              "0       71   Z              11\n",
              "1       75   X              14\n",
              "2       71   X              12\n",
              "3       53   Z               1\n",
              "4       50   X               1"
            ]
          },
          "execution_count": 19,
          "metadata": {},
          "output_type": "execute_result"
        }
      ],
      "source": [
        "import pandas as pd\n",
        "df_f= pd.read_csv('https://raw.githubusercontent.com/Datamanim/datarepo/main/adp/25/problem5.csv',encoding='cp949')\n",
        "df_f.head()"
      ]
    },
    {
      "cell_type": "code",
      "execution_count": null,
      "id": "2b701fd9",
      "metadata": {
        "id": "2b701fd9",
        "outputId": "c49ebcd7-3f78-41c4-c7ac-b2e5302685e3"
      },
      "outputs": [
        {
          "name": "stdout",
          "output_type": "stream",
          "text": [
            "\n",
            "- 귀무가설(H0): 각 공장의 출하 소요시간 중위수의 차이는 존재하지 않는다.\n",
            "- 대립가설(H1): 각 공장의 출하 소요시간 중위수의 차이는 존재한다.\n",
            "\n"
          ]
        }
      ],
      "source": [
        "print('''\n",
        "- 귀무가설(H0): 각 공장의 출하 소요시간 중위수의 차이는 존재하지 않는다.\n",
        "- 대립가설(H1): 각 공장의 출하 소요시간 중위수의 차이는 존재한다.\n",
        "''')"
      ]
    },
    {
      "cell_type": "markdown",
      "id": "5160ad98",
      "metadata": {
        "id": "5160ad98"
      },
      "source": [
        "- 2. 검정 후 귀무가설 기각 여부 제시"
      ]
    },
    {
      "cell_type": "code",
      "execution_count": null,
      "id": "88768136",
      "metadata": {
        "id": "88768136",
        "outputId": "84515d4f-0391-4f77-80dc-5f06bdd09178"
      },
      "outputs": [
        {
          "name": "stdout",
          "output_type": "stream",
          "text": [
            "(15, 3) (15, 3) (14, 3)\n"
          ]
        }
      ],
      "source": [
        "from scipy import stats\n",
        "\n",
        "fac_x = df_f[df_f['공장명']=='X']\n",
        "fac_y = df_f[df_f['공장명']=='Y']\n",
        "fac_z = df_f[df_f['공장명']=='Z']\n",
        "print(fac_x.shape, fac_y.shape, fac_z.shape)"
      ]
    },
    {
      "cell_type": "code",
      "execution_count": null,
      "id": "2270e37c",
      "metadata": {
        "id": "2270e37c",
        "outputId": "b5d03ab3-db3f-4505-a9b6-2128b54c8a8d"
      },
      "outputs": [
        {
          "data": {
            "image/png": "[encoded data removed]",
            "text/plain": [
              "<Figure size 600x600 with 1 Axes>"
            ]
          },
          "metadata": {},
          "output_type": "display_data"
        }
      ],
      "source": [
        "import matplotlib.pyplot as plt\n",
        "import seaborn as sns\n",
        "\n",
        "plt.subplots(figsize=(6,6))\n",
        "sns.boxplot([fac_x['출하 소요시간'], fac_y['출하 소요시간'], \n",
        "            fac_z['출하 소요시간']])\n",
        "plt.show()"
      ]
    },
    {
      "cell_type": "code",
      "execution_count": null,
      "id": "3b3efcad",
      "metadata": {
        "id": "3b3efcad",
        "outputId": "5ef7acbc-9aa1-4379-a0c7-9eba39f20a7a"
      },
      "outputs": [
        {
          "name": "stdout",
          "output_type": "stream",
          "text": [
            "<class 'pandas.core.frame.DataFrame'>\n",
            "Int64Index: 15 entries, 1 to 43\n",
            "Data columns (total 3 columns):\n",
            " #   Column          Non-Null Count  Dtype \n",
            "---  ------          --------------  ----- \n",
            " 0   출하 소요시간         15 non-null     int64 \n",
            " 1   공장명             15 non-null     object\n",
            " 2   공장별 출하 소요시간 순위  15 non-null     int64 \n",
            "dtypes: int64(2), object(1)\n",
            "memory usage: 480.0+ bytes\n"
          ]
        }
      ],
      "source": [
        "fac_x.info()"
      ]
    },
    {
      "cell_type": "code",
      "execution_count": null,
      "id": "91d282f6",
      "metadata": {
        "id": "91d282f6"
      },
      "outputs": [],
      "source": [
        "st, p_val = stats.kruskal(fac_x['출하 소요시간'],\n",
        "              fac_y['출하 소요시간'],\n",
        "              fac_z['출하 소요시간'])\n",
        "\n",
        "# stats.wilcoxon()"
      ]
    },
    {
      "cell_type": "code",
      "execution_count": null,
      "id": "15f932b4",
      "metadata": {
        "id": "15f932b4",
        "outputId": "774c0505-6c50-4f12-b936-9ce36f35c75c"
      },
      "outputs": [
        {
          "name": "stdout",
          "output_type": "stream",
          "text": [
            "\n",
            "- 검정통계량:  0.7217886080379153\n",
            "- P-VALUE: 0.6970526702392181\n",
            "\n",
            "p-value가 유의수준 0.05보다 크기에 귀무가설이 통계적으로 유의하다.\n",
            "\n"
          ]
        }
      ],
      "source": [
        "print(f'''\n",
        "- 검정통계량:  {st}\n",
        "- P-VALUE: {p_val}\n",
        "\n",
        "p-value가 유의수준 0.05보다 크기에 귀무가설이 통계적으로 유의하다.\n",
        "''')"
      ]
    },
    {
      "cell_type": "markdown",
      "id": "a773cd63",
      "metadata": {
        "id": "a773cd63"
      },
      "source": [
        "### 25.\n",
        "임상 대상 20명에 대한 혈압약 투약 이전과 이후의 차이가 24, 표준편차 9, 신뢰구간 95%, 차이가 존재하는지 확인하려 한다.\n",
        "\n",
        "- 1. 귀무가설과 연구가설을 제시하시오"
      ]
    },
    {
      "cell_type": "code",
      "execution_count": null,
      "id": "235dae8c",
      "metadata": {
        "id": "235dae8c",
        "outputId": "4ab13130-8ac2-4973-e16e-925f7832e8d0"
      },
      "outputs": [
        {
          "name": "stdout",
          "output_type": "stream",
          "text": [
            "\n",
            "- 귀무가설(H0): 혈압약 투약 이전과 이후의 차이는 존재하지 않는다.\n",
            "- 대립가설(H1): 혈압약 투약 이전과 이후의 차이는 존재한다.\n",
            "\n"
          ]
        }
      ],
      "source": [
        "print('''\n",
        "- 귀무가설(H0): 혈압약 투약 이전과 이후의 차이는 존재하지 않는다.\n",
        "- 대립가설(H1): 혈압약 투약 이전과 이후의 차이는 존재한다.\n",
        "''')"
      ]
    },
    {
      "cell_type": "markdown",
      "id": "609319bf",
      "metadata": {
        "id": "609319bf"
      },
      "source": [
        "- 2. 검정 후 귀무가설 기각 여부 제시"
      ]
    },
    {
      "cell_type": "markdown",
      "id": "0e60e9c5",
      "metadata": {
        "id": "0e60e9c5"
      },
      "source": [
        "- 신뢰구간 : $\\bar{D} \\pm t_{\\alpha/2}(n-1) \\times \\dfrac {std}{\\sqrt{n}} $ \n",
        "- $t = \\dfrac{\\bar{D}}{s_D / \\sqrt{n}} $"
      ]
    },
    {
      "cell_type": "code",
      "execution_count": null,
      "id": "390d95e7",
      "metadata": {
        "id": "390d95e7",
        "outputId": "883d0951-7a2b-45d4-8e67-c5be0adf2f73"
      },
      "outputs": [
        {
          "name": "stdout",
          "output_type": "stream",
          "text": [
            "\n",
            "- 유의수준 0.025, 자유도 19의 t: 2.093\n",
            "- 95% 신뢰구간은 44.0869870647791 ~ 52.51114956321181 이다\n",
            "- 검정통계량: 48.299068313995456\n",
            "- 검정통계량이 신뢰구간에 포함되므로 귀무가설이 통계적으로 유의하다.\n",
            "\n"
          ]
        }
      ],
      "source": [
        "n = 20\n",
        "dof = n - 1\n",
        "diff = 24\n",
        "std = 9\n",
        "conf = 0.95\n",
        "\n",
        "t_val = 2.093 # 유의수준 0.025, 자유도 19의 t\n",
        "t_test_stat = (diff)*(std/np.sqrt(n))\n",
        "t_plus = (diff+t_val)*(std/np.sqrt(n))\n",
        "t_min = (diff - t_val)*(std/np.sqrt(n))\n",
        "\n",
        "print(f'''\n",
        "- 유의수준 0.025, 자유도 19의 t: {t_val}\n",
        "- 95% 신뢰구간은 {t_min} ~ {t_plus} 이다\n",
        "- 검정통계량: {t_test_stat}\n",
        "- 검정통계량이 신뢰구간에 포함되므로 귀무가설이 통계적으로 유의하다.\n",
        "''')"
      ]
    },
    {
      "cell_type": "code",
      "execution_count": null,
      "id": "0a7a31c7",
      "metadata": {
        "id": "0a7a31c7",
        "outputId": "b4dbb9ef-d6a1-4546-88df-f2281968fcb7"
      },
      "outputs": [
        {
          "data": {
            "text/plain": [
              "(-4.212129657779185, 4.212129657779185)"
            ]
          },
          "execution_count": 28,
          "metadata": {},
          "output_type": "execute_result"
        }
      ],
      "source": [
        "stats.t.interval(alpha=0.95, df=19, scale=(std/np.sqrt(n)))"
      ]
    },
    {
      "cell_type": "markdown",
      "id": "e8d755a4",
      "metadata": {
        "id": "e8d755a4"
      },
      "source": []
    },
    {
      "cell_type": "markdown",
      "id": "d414c2d8",
      "metadata": {
        "id": "d414c2d8"
      },
      "source": [
        "### 28.\n",
        "\n",
        "- 통계 3번\n",
        "\n",
        "시식 전 후 구매의사 여부 \n",
        "\n",
        "\n",
        "|             | 시식 전 | 시식 후 |\n",
        "| :---------: | :-----: | :-----: |\n",
        "| 구매의사 유 |   23    |   17    |\n",
        "| 구매의사 무 |    6    |   12    |\n",
        "\n"
      ]
    },
    {
      "cell_type": "code",
      "execution_count": null,
      "id": "1211645b",
      "metadata": {
        "id": "1211645b",
        "outputId": "19449b57-dc98-4ab7-e0d8-b7397f3f4335"
      },
      "outputs": [
        {
          "data": {
            "text/html": [
              "<div>\n",
              "<style scoped>\n",
              "    .dataframe tbody tr th:only-of-type {\n",
              "        vertical-align: middle;\n",
              "    }\n",
              "\n",
              "    .dataframe tbody tr th {\n",
              "        vertical-align: top;\n",
              "    }\n",
              "\n",
              "    .dataframe thead th {\n",
              "        text-align: right;\n",
              "    }\n",
              "</style>\n",
              "<table border=\"1\" class=\"dataframe\">\n",
              "  <thead>\n",
              "    <tr style=\"text-align: right;\">\n",
              "      <th></th>\n",
              "      <th>구매의사 유</th>\n",
              "      <th>구매의사 무</th>\n",
              "    </tr>\n",
              "  </thead>\n",
              "  <tbody>\n",
              "    <tr>\n",
              "      <th>시식 전</th>\n",
              "      <td>23</td>\n",
              "      <td>6</td>\n",
              "    </tr>\n",
              "    <tr>\n",
              "      <th>시식 후</th>\n",
              "      <td>17</td>\n",
              "      <td>12</td>\n",
              "    </tr>\n",
              "  </tbody>\n",
              "</table>\n",
              "</div>"
            ],
            "text/plain": [
              "      구매의사 유  구매의사 무\n",
              "시식 전      23       6\n",
              "시식 후      17      12"
            ]
          },
          "metadata": {},
          "output_type": "display_data"
        },
        {
          "data": {
            "text/html": [
              "<div>\n",
              "<style scoped>\n",
              "    .dataframe tbody tr th:only-of-type {\n",
              "        vertical-align: middle;\n",
              "    }\n",
              "\n",
              "    .dataframe tbody tr th {\n",
              "        vertical-align: top;\n",
              "    }\n",
              "\n",
              "    .dataframe thead th {\n",
              "        text-align: right;\n",
              "    }\n",
              "</style>\n",
              "<table border=\"1\" class=\"dataframe\">\n",
              "  <thead>\n",
              "    <tr style=\"text-align: right;\">\n",
              "      <th></th>\n",
              "      <th>시식 전</th>\n",
              "      <th>시식 후</th>\n",
              "    </tr>\n",
              "  </thead>\n",
              "  <tbody>\n",
              "    <tr>\n",
              "      <th>구매의사 유</th>\n",
              "      <td>23</td>\n",
              "      <td>17</td>\n",
              "    </tr>\n",
              "    <tr>\n",
              "      <th>구매의사 무</th>\n",
              "      <td>6</td>\n",
              "      <td>12</td>\n",
              "    </tr>\n",
              "  </tbody>\n",
              "</table>\n",
              "</div>"
            ],
            "text/plain": [
              "        시식 전  시식 후\n",
              "구매의사 유    23    17\n",
              "구매의사 무     6    12"
            ]
          },
          "metadata": {},
          "output_type": "display_data"
        }
      ],
      "source": [
        "df_buy = pd.DataFrame({'구매의사 유':[23, 17], '구매의사 무':[6,12]})\n",
        "df_buy.index=['시식 전', '시식 후']\n",
        "display(df_buy)\n",
        "display(df_buy.T)"
      ]
    },
    {
      "cell_type": "code",
      "execution_count": null,
      "id": "a7216428",
      "metadata": {
        "id": "a7216428",
        "outputId": "d7bcb8de-dced-4de4-8b11-c10bfad45466"
      },
      "outputs": [
        {
          "data": {
            "text/plain": [
              "시식 전  구매의사 유    23\n",
              "      구매의사 무     6\n",
              "시식 후  구매의사 유    17\n",
              "      구매의사 무    12\n",
              "dtype: int64"
            ]
          },
          "execution_count": 56,
          "metadata": {},
          "output_type": "execute_result"
        }
      ],
      "source": [
        "df_buy.stack()"
      ]
    },
    {
      "cell_type": "code",
      "execution_count": null,
      "id": "6e30e80e",
      "metadata": {
        "id": "6e30e80e",
        "outputId": "d97b324a-4cdf-4f4d-d724-cee256e62510"
      },
      "outputs": [
        {
          "ename": "TypeError",
          "evalue": "unhashable type: 'Series'",
          "output_type": "error",
          "traceback": [
            "\u001b[0;31m---------------------------------------------------------------------------\u001b[0m",
            "\u001b[0;31mTypeError\u001b[0m                                 Traceback (most recent call last)",
            "Cell \u001b[0;32mIn[55], line 1\u001b[0m\n\u001b[0;32m----> 1\u001b[0m df_cross \u001b[38;5;241m=\u001b[39m \u001b[43mpd\u001b[49m\u001b[38;5;241;43m.\u001b[39;49m\u001b[43mcrosstab\u001b[49m\u001b[43m(\u001b[49m\u001b[43mindex\u001b[49m\u001b[38;5;241;43m=\u001b[39;49m\u001b[43m[\u001b[49m\u001b[43mdf_buy\u001b[49m\u001b[38;5;241;43m.\u001b[39;49m\u001b[43mindex\u001b[49m\u001b[43m[\u001b[49m\u001b[38;5;241;43m0\u001b[39;49m\u001b[43m]\u001b[49m\u001b[43m,\u001b[49m\u001b[43m \u001b[49m\u001b[43m(\u001b[49m\u001b[43mdf_buy\u001b[49m\u001b[43m[\u001b[49m\u001b[38;5;124;43m'\u001b[39;49m\u001b[38;5;124;43m구매의사 유\u001b[39;49m\u001b[38;5;124;43m'\u001b[39;49m\u001b[43m]\u001b[49m\u001b[43m,\u001b[49m\u001b[43m \u001b[49m\u001b[43mdf_buy\u001b[49m\u001b[43m[\u001b[49m\u001b[38;5;124;43m'\u001b[39;49m\u001b[38;5;124;43m구매의사 무\u001b[39;49m\u001b[38;5;124;43m'\u001b[39;49m\u001b[43m]\u001b[49m\u001b[43m)\u001b[49m\u001b[43m]\u001b[49m\u001b[43m,\u001b[49m\u001b[43m \u001b[49m\u001b[43mcolumns\u001b[49m\u001b[38;5;241;43m=\u001b[39;49m\u001b[43m[\u001b[49m\u001b[43mdf_buy\u001b[49m\u001b[43m[\u001b[49m\u001b[38;5;124;43m'\u001b[39;49m\u001b[38;5;124;43m구매의사 무\u001b[39;49m\u001b[38;5;124;43m'\u001b[39;49m\u001b[43m]\u001b[49m\u001b[43m]\u001b[49m\u001b[43m,\u001b[49m\u001b[43m \u001b[49m\u001b[43mmargins\u001b[49m\u001b[38;5;241;43m=\u001b[39;49m\u001b[38;5;28;43;01mTrue\u001b[39;49;00m\u001b[43m \u001b[49m\u001b[43m)\u001b[49m\n\u001b[1;32m      2\u001b[0m df_cross\n\u001b[1;32m      3\u001b[0m df_buy\u001b[38;5;241m.\u001b[39mindex[\u001b[38;5;241m0\u001b[39m]\n",
            "File \u001b[0;32m/opt/homebrew/lib/python3.9/site-packages/pandas/core/reshape/pivot.py:691\u001b[0m, in \u001b[0;36mcrosstab\u001b[0;34m(index, columns, values, rownames, colnames, aggfunc, margins, margins_name, dropna, normalize)\u001b[0m\n\u001b[1;32m    688\u001b[0m     df[\u001b[38;5;124m\"\u001b[39m\u001b[38;5;124m__dummy__\u001b[39m\u001b[38;5;124m\"\u001b[39m] \u001b[38;5;241m=\u001b[39m values\n\u001b[1;32m    689\u001b[0m     kwargs \u001b[38;5;241m=\u001b[39m {\u001b[38;5;124m\"\u001b[39m\u001b[38;5;124maggfunc\u001b[39m\u001b[38;5;124m\"\u001b[39m: aggfunc}\n\u001b[0;32m--> 691\u001b[0m table \u001b[38;5;241m=\u001b[39m \u001b[43mdf\u001b[49m\u001b[38;5;241;43m.\u001b[39;49m\u001b[43mpivot_table\u001b[49m\u001b[43m(\u001b[49m\n\u001b[1;32m    692\u001b[0m \u001b[43m    \u001b[49m\u001b[38;5;124;43m\"\u001b[39;49m\u001b[38;5;124;43m__dummy__\u001b[39;49m\u001b[38;5;124;43m\"\u001b[39;49m\u001b[43m,\u001b[49m\n\u001b[1;32m    693\u001b[0m \u001b[43m    \u001b[49m\u001b[43mindex\u001b[49m\u001b[38;5;241;43m=\u001b[39;49m\u001b[43munique_rownames\u001b[49m\u001b[43m,\u001b[49m\n\u001b[1;32m    694\u001b[0m \u001b[43m    \u001b[49m\u001b[43mcolumns\u001b[49m\u001b[38;5;241;43m=\u001b[39;49m\u001b[43munique_colnames\u001b[49m\u001b[43m,\u001b[49m\n\u001b[1;32m    695\u001b[0m \u001b[43m    \u001b[49m\u001b[43mmargins\u001b[49m\u001b[38;5;241;43m=\u001b[39;49m\u001b[43mmargins\u001b[49m\u001b[43m,\u001b[49m\n\u001b[1;32m    696\u001b[0m \u001b[43m    \u001b[49m\u001b[43mmargins_name\u001b[49m\u001b[38;5;241;43m=\u001b[39;49m\u001b[43mmargins_name\u001b[49m\u001b[43m,\u001b[49m\n\u001b[1;32m    697\u001b[0m \u001b[43m    \u001b[49m\u001b[43mdropna\u001b[49m\u001b[38;5;241;43m=\u001b[39;49m\u001b[43mdropna\u001b[49m\u001b[43m,\u001b[49m\n\u001b[1;32m    698\u001b[0m \u001b[43m    \u001b[49m\u001b[38;5;241;43m*\u001b[39;49m\u001b[38;5;241;43m*\u001b[39;49m\u001b[43mkwargs\u001b[49m\u001b[43m,\u001b[49m\n\u001b[1;32m    699\u001b[0m \u001b[43m\u001b[49m\u001b[43m)\u001b[49m\n\u001b[1;32m    701\u001b[0m \u001b[38;5;66;03m# Post-process\u001b[39;00m\n\u001b[1;32m    702\u001b[0m \u001b[38;5;28;01mif\u001b[39;00m normalize \u001b[38;5;129;01mis\u001b[39;00m \u001b[38;5;129;01mnot\u001b[39;00m \u001b[38;5;28;01mFalse\u001b[39;00m:\n",
            "File \u001b[0;32m/opt/homebrew/lib/python3.9/site-packages/pandas/core/frame.py:8731\u001b[0m, in \u001b[0;36mDataFrame.pivot_table\u001b[0;34m(self, values, index, columns, aggfunc, fill_value, margins, dropna, margins_name, observed, sort)\u001b[0m\n\u001b[1;32m   8714\u001b[0m \u001b[38;5;129m@Substitution\u001b[39m(\u001b[38;5;124m\"\u001b[39m\u001b[38;5;124m\"\u001b[39m)\n\u001b[1;32m   8715\u001b[0m \u001b[38;5;129m@Appender\u001b[39m(_shared_docs[\u001b[38;5;124m\"\u001b[39m\u001b[38;5;124mpivot_table\u001b[39m\u001b[38;5;124m\"\u001b[39m])\n\u001b[1;32m   8716\u001b[0m \u001b[38;5;28;01mdef\u001b[39;00m \u001b[38;5;21mpivot_table\u001b[39m(\n\u001b[0;32m   (...)\u001b[0m\n\u001b[1;32m   8727\u001b[0m     sort\u001b[38;5;241m=\u001b[39m\u001b[38;5;28;01mTrue\u001b[39;00m,\n\u001b[1;32m   8728\u001b[0m ) \u001b[38;5;241m-\u001b[39m\u001b[38;5;241m>\u001b[39m DataFrame:\n\u001b[1;32m   8729\u001b[0m     \u001b[38;5;28;01mfrom\u001b[39;00m \u001b[38;5;21;01mpandas\u001b[39;00m\u001b[38;5;21;01m.\u001b[39;00m\u001b[38;5;21;01mcore\u001b[39;00m\u001b[38;5;21;01m.\u001b[39;00m\u001b[38;5;21;01mreshape\u001b[39;00m\u001b[38;5;21;01m.\u001b[39;00m\u001b[38;5;21;01mpivot\u001b[39;00m \u001b[38;5;28;01mimport\u001b[39;00m pivot_table\n\u001b[0;32m-> 8731\u001b[0m     \u001b[38;5;28;01mreturn\u001b[39;00m \u001b[43mpivot_table\u001b[49m\u001b[43m(\u001b[49m\n\u001b[1;32m   8732\u001b[0m \u001b[43m        \u001b[49m\u001b[38;5;28;43mself\u001b[39;49m\u001b[43m,\u001b[49m\n\u001b[1;32m   8733\u001b[0m \u001b[43m        \u001b[49m\u001b[43mvalues\u001b[49m\u001b[38;5;241;43m=\u001b[39;49m\u001b[43mvalues\u001b[49m\u001b[43m,\u001b[49m\n\u001b[1;32m   8734\u001b[0m \u001b[43m        \u001b[49m\u001b[43mindex\u001b[49m\u001b[38;5;241;43m=\u001b[39;49m\u001b[43mindex\u001b[49m\u001b[43m,\u001b[49m\n\u001b[1;32m   8735\u001b[0m \u001b[43m        \u001b[49m\u001b[43mcolumns\u001b[49m\u001b[38;5;241;43m=\u001b[39;49m\u001b[43mcolumns\u001b[49m\u001b[43m,\u001b[49m\n\u001b[1;32m   8736\u001b[0m \u001b[43m        \u001b[49m\u001b[43maggfunc\u001b[49m\u001b[38;5;241;43m=\u001b[39;49m\u001b[43maggfunc\u001b[49m\u001b[43m,\u001b[49m\n\u001b[1;32m   8737\u001b[0m \u001b[43m        \u001b[49m\u001b[43mfill_value\u001b[49m\u001b[38;5;241;43m=\u001b[39;49m\u001b[43mfill_value\u001b[49m\u001b[43m,\u001b[49m\n\u001b[1;32m   8738\u001b[0m \u001b[43m        \u001b[49m\u001b[43mmargins\u001b[49m\u001b[38;5;241;43m=\u001b[39;49m\u001b[43mmargins\u001b[49m\u001b[43m,\u001b[49m\n\u001b[1;32m   8739\u001b[0m \u001b[43m        \u001b[49m\u001b[43mdropna\u001b[49m\u001b[38;5;241;43m=\u001b[39;49m\u001b[43mdropna\u001b[49m\u001b[43m,\u001b[49m\n\u001b[1;32m   8740\u001b[0m \u001b[43m        \u001b[49m\u001b[43mmargins_name\u001b[49m\u001b[38;5;241;43m=\u001b[39;49m\u001b[43mmargins_name\u001b[49m\u001b[43m,\u001b[49m\n\u001b[1;32m   8741\u001b[0m \u001b[43m        \u001b[49m\u001b[43mobserved\u001b[49m\u001b[38;5;241;43m=\u001b[39;49m\u001b[43mobserved\u001b[49m\u001b[43m,\u001b[49m\n\u001b[1;32m   8742\u001b[0m \u001b[43m        \u001b[49m\u001b[43msort\u001b[49m\u001b[38;5;241;43m=\u001b[39;49m\u001b[43msort\u001b[49m\u001b[43m,\u001b[49m\n\u001b[1;32m   8743\u001b[0m \u001b[43m    \u001b[49m\u001b[43m)\u001b[49m\n",
            "File \u001b[0;32m/opt/homebrew/lib/python3.9/site-packages/pandas/core/reshape/pivot.py:97\u001b[0m, in \u001b[0;36mpivot_table\u001b[0;34m(data, values, index, columns, aggfunc, fill_value, margins, dropna, margins_name, observed, sort)\u001b[0m\n\u001b[1;32m     94\u001b[0m     table \u001b[38;5;241m=\u001b[39m concat(pieces, keys\u001b[38;5;241m=\u001b[39mkeys, axis\u001b[38;5;241m=\u001b[39m\u001b[38;5;241m1\u001b[39m)\n\u001b[1;32m     95\u001b[0m     \u001b[38;5;28;01mreturn\u001b[39;00m table\u001b[38;5;241m.\u001b[39m__finalize__(data, method\u001b[38;5;241m=\u001b[39m\u001b[38;5;124m\"\u001b[39m\u001b[38;5;124mpivot_table\u001b[39m\u001b[38;5;124m\"\u001b[39m)\n\u001b[0;32m---> 97\u001b[0m table \u001b[38;5;241m=\u001b[39m \u001b[43m__internal_pivot_table\u001b[49m\u001b[43m(\u001b[49m\n\u001b[1;32m     98\u001b[0m \u001b[43m    \u001b[49m\u001b[43mdata\u001b[49m\u001b[43m,\u001b[49m\n\u001b[1;32m     99\u001b[0m \u001b[43m    \u001b[49m\u001b[43mvalues\u001b[49m\u001b[43m,\u001b[49m\n\u001b[1;32m    100\u001b[0m \u001b[43m    \u001b[49m\u001b[43mindex\u001b[49m\u001b[43m,\u001b[49m\n\u001b[1;32m    101\u001b[0m \u001b[43m    \u001b[49m\u001b[43mcolumns\u001b[49m\u001b[43m,\u001b[49m\n\u001b[1;32m    102\u001b[0m \u001b[43m    \u001b[49m\u001b[43maggfunc\u001b[49m\u001b[43m,\u001b[49m\n\u001b[1;32m    103\u001b[0m \u001b[43m    \u001b[49m\u001b[43mfill_value\u001b[49m\u001b[43m,\u001b[49m\n\u001b[1;32m    104\u001b[0m \u001b[43m    \u001b[49m\u001b[43mmargins\u001b[49m\u001b[43m,\u001b[49m\n\u001b[1;32m    105\u001b[0m \u001b[43m    \u001b[49m\u001b[43mdropna\u001b[49m\u001b[43m,\u001b[49m\n\u001b[1;32m    106\u001b[0m \u001b[43m    \u001b[49m\u001b[43mmargins_name\u001b[49m\u001b[43m,\u001b[49m\n\u001b[1;32m    107\u001b[0m \u001b[43m    \u001b[49m\u001b[43mobserved\u001b[49m\u001b[43m,\u001b[49m\n\u001b[1;32m    108\u001b[0m \u001b[43m    \u001b[49m\u001b[43msort\u001b[49m\u001b[43m,\u001b[49m\n\u001b[1;32m    109\u001b[0m \u001b[43m\u001b[49m\u001b[43m)\u001b[49m\n\u001b[1;32m    110\u001b[0m \u001b[38;5;28;01mreturn\u001b[39;00m table\u001b[38;5;241m.\u001b[39m__finalize__(data, method\u001b[38;5;241m=\u001b[39m\u001b[38;5;124m\"\u001b[39m\u001b[38;5;124mpivot_table\u001b[39m\u001b[38;5;124m\"\u001b[39m)\n",
            "File \u001b[0;32m/opt/homebrew/lib/python3.9/site-packages/pandas/core/reshape/pivot.py:177\u001b[0m, in \u001b[0;36m__internal_pivot_table\u001b[0;34m(data, values, index, columns, aggfunc, fill_value, margins, dropna, margins_name, observed, sort)\u001b[0m\n\u001b[1;32m    167\u001b[0m msg \u001b[38;5;241m=\u001b[39m (\n\u001b[1;32m    168\u001b[0m     \u001b[38;5;124m\"\u001b[39m\u001b[38;5;124mpivot_table dropped a column because it failed to aggregate. This behavior \u001b[39m\u001b[38;5;124m\"\u001b[39m\n\u001b[1;32m    169\u001b[0m     \u001b[38;5;124m\"\u001b[39m\u001b[38;5;124mis deprecated and will raise in a future version of pandas. Select only the \u001b[39m\u001b[38;5;124m\"\u001b[39m\n\u001b[1;32m    170\u001b[0m     \u001b[38;5;124m\"\u001b[39m\u001b[38;5;124mcolumns that can be aggregated.\u001b[39m\u001b[38;5;124m\"\u001b[39m\n\u001b[1;32m    171\u001b[0m )\n\u001b[1;32m    172\u001b[0m \u001b[38;5;28;01mwith\u001b[39;00m rewrite_warning(\n\u001b[1;32m    173\u001b[0m     target_message\u001b[38;5;241m=\u001b[39m\u001b[38;5;124m\"\u001b[39m\u001b[38;5;124mThe default value of numeric_only\u001b[39m\u001b[38;5;124m\"\u001b[39m,\n\u001b[1;32m    174\u001b[0m     target_category\u001b[38;5;241m=\u001b[39m\u001b[38;5;167;01mFutureWarning\u001b[39;00m,\n\u001b[1;32m    175\u001b[0m     new_message\u001b[38;5;241m=\u001b[39mmsg,\n\u001b[1;32m    176\u001b[0m ):\n\u001b[0;32m--> 177\u001b[0m     agged \u001b[38;5;241m=\u001b[39m \u001b[43mgrouped\u001b[49m\u001b[38;5;241;43m.\u001b[39;49m\u001b[43magg\u001b[49m\u001b[43m(\u001b[49m\u001b[43maggfunc\u001b[49m\u001b[43m)\u001b[49m\n\u001b[1;32m    179\u001b[0m \u001b[38;5;28;01mif\u001b[39;00m dropna \u001b[38;5;129;01mand\u001b[39;00m \u001b[38;5;28misinstance\u001b[39m(agged, ABCDataFrame) \u001b[38;5;129;01mand\u001b[39;00m \u001b[38;5;28mlen\u001b[39m(agged\u001b[38;5;241m.\u001b[39mcolumns):\n\u001b[1;32m    180\u001b[0m     agged \u001b[38;5;241m=\u001b[39m agged\u001b[38;5;241m.\u001b[39mdropna(how\u001b[38;5;241m=\u001b[39m\u001b[38;5;124m\"\u001b[39m\u001b[38;5;124mall\u001b[39m\u001b[38;5;124m\"\u001b[39m)\n",
            "File \u001b[0;32m/opt/homebrew/lib/python3.9/site-packages/pandas/core/groupby/generic.py:909\u001b[0m, in \u001b[0;36mDataFrameGroupBy.aggregate\u001b[0;34m(self, func, engine, engine_kwargs, *args, **kwargs)\u001b[0m\n\u001b[1;32m    904\u001b[0m \u001b[38;5;28;01mif\u001b[39;00m result \u001b[38;5;129;01mis\u001b[39;00m \u001b[38;5;28;01mNone\u001b[39;00m:\n\u001b[1;32m    905\u001b[0m \n\u001b[1;32m    906\u001b[0m     \u001b[38;5;66;03m# grouper specific aggregations\u001b[39;00m\n\u001b[1;32m    907\u001b[0m     \u001b[38;5;28;01mif\u001b[39;00m \u001b[38;5;28mself\u001b[39m\u001b[38;5;241m.\u001b[39mgrouper\u001b[38;5;241m.\u001b[39mnkeys \u001b[38;5;241m>\u001b[39m \u001b[38;5;241m1\u001b[39m:\n\u001b[1;32m    908\u001b[0m         \u001b[38;5;66;03m# test_groupby_as_index_series_scalar gets here with 'not self.as_index'\u001b[39;00m\n\u001b[0;32m--> 909\u001b[0m         \u001b[38;5;28;01mreturn\u001b[39;00m \u001b[38;5;28;43mself\u001b[39;49m\u001b[38;5;241;43m.\u001b[39;49m\u001b[43m_python_agg_general\u001b[49m\u001b[43m(\u001b[49m\u001b[43mfunc\u001b[49m\u001b[43m,\u001b[49m\u001b[43m \u001b[49m\u001b[38;5;241;43m*\u001b[39;49m\u001b[43margs\u001b[49m\u001b[43m,\u001b[49m\u001b[43m \u001b[49m\u001b[38;5;241;43m*\u001b[39;49m\u001b[38;5;241;43m*\u001b[39;49m\u001b[43mkwargs\u001b[49m\u001b[43m)\u001b[49m\n\u001b[1;32m    910\u001b[0m     \u001b[38;5;28;01melif\u001b[39;00m args \u001b[38;5;129;01mor\u001b[39;00m kwargs:\n\u001b[1;32m    911\u001b[0m         \u001b[38;5;66;03m# test_pass_args_kwargs gets here (with and without as_index)\u001b[39;00m\n\u001b[1;32m    912\u001b[0m         \u001b[38;5;66;03m# can't return early\u001b[39;00m\n\u001b[1;32m    913\u001b[0m         result \u001b[38;5;241m=\u001b[39m \u001b[38;5;28mself\u001b[39m\u001b[38;5;241m.\u001b[39m_aggregate_frame(func, \u001b[38;5;241m*\u001b[39margs, \u001b[38;5;241m*\u001b[39m\u001b[38;5;241m*\u001b[39mkwargs)\n",
            "File \u001b[0;32m/opt/homebrew/lib/python3.9/site-packages/pandas/core/groupby/groupby.py:1673\u001b[0m, in \u001b[0;36mGroupBy._python_agg_general\u001b[0;34m(self, func, raise_on_typeerror, *args, **kwargs)\u001b[0m\n\u001b[1;32m   1670\u001b[0m \u001b[38;5;66;03m# iterate through \"columns\" ex exclusions to populate output dict\u001b[39;00m\n\u001b[1;32m   1671\u001b[0m output: \u001b[38;5;28mdict\u001b[39m[base\u001b[38;5;241m.\u001b[39mOutputKey, ArrayLike] \u001b[38;5;241m=\u001b[39m {}\n\u001b[0;32m-> 1673\u001b[0m \u001b[38;5;28;01mif\u001b[39;00m \u001b[38;5;28;43mself\u001b[39;49m\u001b[38;5;241;43m.\u001b[39;49m\u001b[43mngroups\u001b[49m \u001b[38;5;241m==\u001b[39m \u001b[38;5;241m0\u001b[39m:\n\u001b[1;32m   1674\u001b[0m     \u001b[38;5;66;03m# agg_series below assumes ngroups > 0\u001b[39;00m\n\u001b[1;32m   1675\u001b[0m     \u001b[38;5;28;01mreturn\u001b[39;00m \u001b[38;5;28mself\u001b[39m\u001b[38;5;241m.\u001b[39m_python_apply_general(f, \u001b[38;5;28mself\u001b[39m\u001b[38;5;241m.\u001b[39m_selected_obj, is_agg\u001b[38;5;241m=\u001b[39m\u001b[38;5;28;01mTrue\u001b[39;00m)\n\u001b[1;32m   1677\u001b[0m \u001b[38;5;28;01mfor\u001b[39;00m idx, obj \u001b[38;5;129;01min\u001b[39;00m \u001b[38;5;28menumerate\u001b[39m(\u001b[38;5;28mself\u001b[39m\u001b[38;5;241m.\u001b[39m_iterate_slices()):\n",
            "File \u001b[0;32m/opt/homebrew/lib/python3.9/site-packages/pandas/core/groupby/groupby.py:677\u001b[0m, in \u001b[0;36mBaseGroupBy.ngroups\u001b[0;34m(self)\u001b[0m\n\u001b[1;32m    674\u001b[0m \u001b[38;5;129m@final\u001b[39m\n\u001b[1;32m    675\u001b[0m \u001b[38;5;129m@property\u001b[39m\n\u001b[1;32m    676\u001b[0m \u001b[38;5;28;01mdef\u001b[39;00m \u001b[38;5;21mngroups\u001b[39m(\u001b[38;5;28mself\u001b[39m) \u001b[38;5;241m-\u001b[39m\u001b[38;5;241m>\u001b[39m \u001b[38;5;28mint\u001b[39m:\n\u001b[0;32m--> 677\u001b[0m     \u001b[38;5;28;01mreturn\u001b[39;00m \u001b[38;5;28;43mself\u001b[39;49m\u001b[38;5;241;43m.\u001b[39;49m\u001b[43mgrouper\u001b[49m\u001b[38;5;241;43m.\u001b[39;49m\u001b[43mngroups\u001b[49m\n",
            "File \u001b[0;32m/opt/homebrew/lib/python3.9/site-packages/pandas/_libs/properties.pyx:36\u001b[0m, in \u001b[0;36mpandas._libs.properties.CachedProperty.__get__\u001b[0;34m()\u001b[0m\n",
            "File \u001b[0;32m/opt/homebrew/lib/python3.9/site-packages/pandas/core/groupby/ops.py:982\u001b[0m, in \u001b[0;36mBaseGrouper.ngroups\u001b[0;34m(self)\u001b[0m\n\u001b[1;32m    979\u001b[0m \u001b[38;5;129m@final\u001b[39m\n\u001b[1;32m    980\u001b[0m \u001b[38;5;129m@cache_readonly\u001b[39m\n\u001b[1;32m    981\u001b[0m \u001b[38;5;28;01mdef\u001b[39;00m \u001b[38;5;21mngroups\u001b[39m(\u001b[38;5;28mself\u001b[39m) \u001b[38;5;241m-\u001b[39m\u001b[38;5;241m>\u001b[39m \u001b[38;5;28mint\u001b[39m:\n\u001b[0;32m--> 982\u001b[0m     \u001b[38;5;28;01mreturn\u001b[39;00m \u001b[38;5;28mlen\u001b[39m(\u001b[38;5;28;43mself\u001b[39;49m\u001b[38;5;241;43m.\u001b[39;49m\u001b[43mresult_index\u001b[49m)\n",
            "File \u001b[0;32m/opt/homebrew/lib/python3.9/site-packages/pandas/_libs/properties.pyx:36\u001b[0m, in \u001b[0;36mpandas._libs.properties.CachedProperty.__get__\u001b[0;34m()\u001b[0m\n",
            "File \u001b[0;32m/opt/homebrew/lib/python3.9/site-packages/pandas/core/groupby/ops.py:995\u001b[0m, in \u001b[0;36mBaseGrouper.result_index\u001b[0;34m(self)\u001b[0m\n\u001b[1;32m    992\u001b[0m \u001b[38;5;28;01mif\u001b[39;00m \u001b[38;5;28mlen\u001b[39m(\u001b[38;5;28mself\u001b[39m\u001b[38;5;241m.\u001b[39mgroupings) \u001b[38;5;241m==\u001b[39m \u001b[38;5;241m1\u001b[39m:\n\u001b[1;32m    993\u001b[0m     \u001b[38;5;28;01mreturn\u001b[39;00m \u001b[38;5;28mself\u001b[39m\u001b[38;5;241m.\u001b[39mgroupings[\u001b[38;5;241m0\u001b[39m]\u001b[38;5;241m.\u001b[39mresult_index\u001b[38;5;241m.\u001b[39mrename(\u001b[38;5;28mself\u001b[39m\u001b[38;5;241m.\u001b[39mnames[\u001b[38;5;241m0\u001b[39m])\n\u001b[0;32m--> 995\u001b[0m codes \u001b[38;5;241m=\u001b[39m \u001b[38;5;28;43mself\u001b[39;49m\u001b[38;5;241;43m.\u001b[39;49m\u001b[43mreconstructed_codes\u001b[49m\n\u001b[1;32m    996\u001b[0m levels \u001b[38;5;241m=\u001b[39m [ping\u001b[38;5;241m.\u001b[39mresult_index \u001b[38;5;28;01mfor\u001b[39;00m ping \u001b[38;5;129;01min\u001b[39;00m \u001b[38;5;28mself\u001b[39m\u001b[38;5;241m.\u001b[39mgroupings]\n\u001b[1;32m    997\u001b[0m \u001b[38;5;28;01mreturn\u001b[39;00m MultiIndex(\n\u001b[1;32m    998\u001b[0m     levels\u001b[38;5;241m=\u001b[39mlevels, codes\u001b[38;5;241m=\u001b[39mcodes, verify_integrity\u001b[38;5;241m=\u001b[39m\u001b[38;5;28;01mFalse\u001b[39;00m, names\u001b[38;5;241m=\u001b[39m\u001b[38;5;28mself\u001b[39m\u001b[38;5;241m.\u001b[39mnames\n\u001b[1;32m    999\u001b[0m )\n",
            "File \u001b[0;32m/opt/homebrew/lib/python3.9/site-packages/pandas/core/groupby/ops.py:986\u001b[0m, in \u001b[0;36mBaseGrouper.reconstructed_codes\u001b[0;34m(self)\u001b[0m\n\u001b[1;32m    984\u001b[0m \u001b[38;5;129m@property\u001b[39m\n\u001b[1;32m    985\u001b[0m \u001b[38;5;28;01mdef\u001b[39;00m \u001b[38;5;21mreconstructed_codes\u001b[39m(\u001b[38;5;28mself\u001b[39m) \u001b[38;5;241m-\u001b[39m\u001b[38;5;241m>\u001b[39m \u001b[38;5;28mlist\u001b[39m[npt\u001b[38;5;241m.\u001b[39mNDArray[np\u001b[38;5;241m.\u001b[39mintp]]:\n\u001b[0;32m--> 986\u001b[0m     codes \u001b[38;5;241m=\u001b[39m \u001b[38;5;28;43mself\u001b[39;49m\u001b[38;5;241;43m.\u001b[39;49m\u001b[43mcodes\u001b[49m\n\u001b[1;32m    987\u001b[0m     ids, obs_ids, _ \u001b[38;5;241m=\u001b[39m \u001b[38;5;28mself\u001b[39m\u001b[38;5;241m.\u001b[39mgroup_info\n\u001b[1;32m    988\u001b[0m     \u001b[38;5;28;01mreturn\u001b[39;00m decons_obs_group_ids(ids, obs_ids, \u001b[38;5;28mself\u001b[39m\u001b[38;5;241m.\u001b[39mshape, codes, xnull\u001b[38;5;241m=\u001b[39m\u001b[38;5;28;01mTrue\u001b[39;00m)\n",
            "File \u001b[0;32m/opt/homebrew/lib/python3.9/site-packages/pandas/core/groupby/ops.py:897\u001b[0m, in \u001b[0;36mBaseGrouper.codes\u001b[0;34m(self)\u001b[0m\n\u001b[1;32m    894\u001b[0m \u001b[38;5;129m@final\u001b[39m\n\u001b[1;32m    895\u001b[0m \u001b[38;5;129m@property\u001b[39m\n\u001b[1;32m    896\u001b[0m \u001b[38;5;28;01mdef\u001b[39;00m \u001b[38;5;21mcodes\u001b[39m(\u001b[38;5;28mself\u001b[39m) \u001b[38;5;241m-\u001b[39m\u001b[38;5;241m>\u001b[39m \u001b[38;5;28mlist\u001b[39m[npt\u001b[38;5;241m.\u001b[39mNDArray[np\u001b[38;5;241m.\u001b[39msignedinteger]]:\n\u001b[0;32m--> 897\u001b[0m     \u001b[38;5;28;01mreturn\u001b[39;00m [ping\u001b[38;5;241m.\u001b[39mcodes \u001b[38;5;28;01mfor\u001b[39;00m ping \u001b[38;5;129;01min\u001b[39;00m \u001b[38;5;28mself\u001b[39m\u001b[38;5;241m.\u001b[39mgroupings]\n",
            "File \u001b[0;32m/opt/homebrew/lib/python3.9/site-packages/pandas/core/groupby/ops.py:897\u001b[0m, in \u001b[0;36m<listcomp>\u001b[0;34m(.0)\u001b[0m\n\u001b[1;32m    894\u001b[0m \u001b[38;5;129m@final\u001b[39m\n\u001b[1;32m    895\u001b[0m \u001b[38;5;129m@property\u001b[39m\n\u001b[1;32m    896\u001b[0m \u001b[38;5;28;01mdef\u001b[39;00m \u001b[38;5;21mcodes\u001b[39m(\u001b[38;5;28mself\u001b[39m) \u001b[38;5;241m-\u001b[39m\u001b[38;5;241m>\u001b[39m \u001b[38;5;28mlist\u001b[39m[npt\u001b[38;5;241m.\u001b[39mNDArray[np\u001b[38;5;241m.\u001b[39msignedinteger]]:\n\u001b[0;32m--> 897\u001b[0m     \u001b[38;5;28;01mreturn\u001b[39;00m [\u001b[43mping\u001b[49m\u001b[38;5;241;43m.\u001b[39;49m\u001b[43mcodes\u001b[49m \u001b[38;5;28;01mfor\u001b[39;00m ping \u001b[38;5;129;01min\u001b[39;00m \u001b[38;5;28mself\u001b[39m\u001b[38;5;241m.\u001b[39mgroupings]\n",
            "File \u001b[0;32m/opt/homebrew/lib/python3.9/site-packages/pandas/core/groupby/grouper.py:621\u001b[0m, in \u001b[0;36mGrouping.codes\u001b[0;34m(self)\u001b[0m\n\u001b[1;32m    617\u001b[0m \u001b[38;5;28;01mif\u001b[39;00m \u001b[38;5;28mself\u001b[39m\u001b[38;5;241m.\u001b[39m_codes \u001b[38;5;129;01mis\u001b[39;00m \u001b[38;5;129;01mnot\u001b[39;00m \u001b[38;5;28;01mNone\u001b[39;00m:\n\u001b[1;32m    618\u001b[0m     \u001b[38;5;66;03m# _codes is set in __init__ for MultiIndex cases\u001b[39;00m\n\u001b[1;32m    619\u001b[0m     \u001b[38;5;28;01mreturn\u001b[39;00m \u001b[38;5;28mself\u001b[39m\u001b[38;5;241m.\u001b[39m_codes\n\u001b[0;32m--> 621\u001b[0m \u001b[38;5;28;01mreturn\u001b[39;00m \u001b[38;5;28;43mself\u001b[39;49m\u001b[38;5;241;43m.\u001b[39;49m\u001b[43m_codes_and_uniques\u001b[49m[\u001b[38;5;241m0\u001b[39m]\n",
            "File \u001b[0;32m/opt/homebrew/lib/python3.9/site-packages/pandas/_libs/properties.pyx:36\u001b[0m, in \u001b[0;36mpandas._libs.properties.CachedProperty.__get__\u001b[0;34m()\u001b[0m\n",
            "File \u001b[0;32m/opt/homebrew/lib/python3.9/site-packages/pandas/core/groupby/grouper.py:692\u001b[0m, in \u001b[0;36mGrouping._codes_and_uniques\u001b[0;34m(self)\u001b[0m\n\u001b[1;32m    685\u001b[0m     uniques \u001b[38;5;241m=\u001b[39m (\n\u001b[1;32m    686\u001b[0m         \u001b[38;5;28mself\u001b[39m\u001b[38;5;241m.\u001b[39mgrouping_vector\u001b[38;5;241m.\u001b[39mresult_index\u001b[38;5;241m.\u001b[39m_values  \u001b[38;5;66;03m# type: ignore[assignment]\u001b[39;00m\n\u001b[1;32m    687\u001b[0m     )\n\u001b[1;32m    688\u001b[0m \u001b[38;5;28;01melse\u001b[39;00m:\n\u001b[1;32m    689\u001b[0m     \u001b[38;5;66;03m# GH35667, replace dropna=False with use_na_sentinel=False\u001b[39;00m\n\u001b[1;32m    690\u001b[0m     \u001b[38;5;66;03m# error: Incompatible types in assignment (expression has type \"Union[\u001b[39;00m\n\u001b[1;32m    691\u001b[0m     \u001b[38;5;66;03m# ndarray[Any, Any], Index]\", variable has type \"Categorical\")\u001b[39;00m\n\u001b[0;32m--> 692\u001b[0m     codes, uniques \u001b[38;5;241m=\u001b[39m \u001b[43malgorithms\u001b[49m\u001b[38;5;241;43m.\u001b[39;49m\u001b[43mfactorize\u001b[49m\u001b[43m(\u001b[49m\u001b[43m  \u001b[49m\u001b[38;5;66;43;03m# type: ignore[assignment]\u001b[39;49;00m\n\u001b[1;32m    693\u001b[0m \u001b[43m        \u001b[49m\u001b[38;5;28;43mself\u001b[39;49m\u001b[38;5;241;43m.\u001b[39;49m\u001b[43mgrouping_vector\u001b[49m\u001b[43m,\u001b[49m\u001b[43m \u001b[49m\u001b[43msort\u001b[49m\u001b[38;5;241;43m=\u001b[39;49m\u001b[38;5;28;43mself\u001b[39;49m\u001b[38;5;241;43m.\u001b[39;49m\u001b[43m_sort\u001b[49m\u001b[43m,\u001b[49m\u001b[43m \u001b[49m\u001b[43muse_na_sentinel\u001b[49m\u001b[38;5;241;43m=\u001b[39;49m\u001b[38;5;28;43mself\u001b[39;49m\u001b[38;5;241;43m.\u001b[39;49m\u001b[43m_dropna\u001b[49m\n\u001b[1;32m    694\u001b[0m \u001b[43m    \u001b[49m\u001b[43m)\u001b[49m\n\u001b[1;32m    695\u001b[0m \u001b[38;5;28;01mreturn\u001b[39;00m codes, uniques\n",
            "File \u001b[0;32m/opt/homebrew/lib/python3.9/site-packages/pandas/core/algorithms.py:822\u001b[0m, in \u001b[0;36mfactorize\u001b[0;34m(values, sort, na_sentinel, use_na_sentinel, size_hint)\u001b[0m\n\u001b[1;32m    819\u001b[0m             \u001b[38;5;66;03m# Don't modify (potentially user-provided) array\u001b[39;00m\n\u001b[1;32m    820\u001b[0m             values \u001b[38;5;241m=\u001b[39m np\u001b[38;5;241m.\u001b[39mwhere(null_mask, na_value, values)\n\u001b[0;32m--> 822\u001b[0m     codes, uniques \u001b[38;5;241m=\u001b[39m \u001b[43mfactorize_array\u001b[49m\u001b[43m(\u001b[49m\n\u001b[1;32m    823\u001b[0m \u001b[43m        \u001b[49m\u001b[43mvalues\u001b[49m\u001b[43m,\u001b[49m\n\u001b[1;32m    824\u001b[0m \u001b[43m        \u001b[49m\u001b[43mna_sentinel\u001b[49m\u001b[38;5;241;43m=\u001b[39;49m\u001b[43mna_sentinel_arg\u001b[49m\u001b[43m,\u001b[49m\n\u001b[1;32m    825\u001b[0m \u001b[43m        \u001b[49m\u001b[43msize_hint\u001b[49m\u001b[38;5;241;43m=\u001b[39;49m\u001b[43msize_hint\u001b[49m\u001b[43m,\u001b[49m\n\u001b[1;32m    826\u001b[0m \u001b[43m    \u001b[49m\u001b[43m)\u001b[49m\n\u001b[1;32m    828\u001b[0m \u001b[38;5;28;01mif\u001b[39;00m sort \u001b[38;5;129;01mand\u001b[39;00m \u001b[38;5;28mlen\u001b[39m(uniques) \u001b[38;5;241m>\u001b[39m \u001b[38;5;241m0\u001b[39m:\n\u001b[1;32m    829\u001b[0m     \u001b[38;5;28;01mif\u001b[39;00m na_sentinel \u001b[38;5;129;01mis\u001b[39;00m \u001b[38;5;28;01mNone\u001b[39;00m:\n\u001b[1;32m    830\u001b[0m         \u001b[38;5;66;03m# TODO: Can remove when na_sentinel=na_sentinel as in TODO above\u001b[39;00m\n",
            "File \u001b[0;32m/opt/homebrew/lib/python3.9/site-packages/pandas/core/algorithms.py:578\u001b[0m, in \u001b[0;36mfactorize_array\u001b[0;34m(values, na_sentinel, size_hint, na_value, mask)\u001b[0m\n\u001b[1;32m    575\u001b[0m hash_klass, values \u001b[38;5;241m=\u001b[39m _get_hashtable_algo(values)\n\u001b[1;32m    577\u001b[0m table \u001b[38;5;241m=\u001b[39m hash_klass(size_hint \u001b[38;5;129;01mor\u001b[39;00m \u001b[38;5;28mlen\u001b[39m(values))\n\u001b[0;32m--> 578\u001b[0m uniques, codes \u001b[38;5;241m=\u001b[39m \u001b[43mtable\u001b[49m\u001b[38;5;241;43m.\u001b[39;49m\u001b[43mfactorize\u001b[49m\u001b[43m(\u001b[49m\n\u001b[1;32m    579\u001b[0m \u001b[43m    \u001b[49m\u001b[43mvalues\u001b[49m\u001b[43m,\u001b[49m\n\u001b[1;32m    580\u001b[0m \u001b[43m    \u001b[49m\u001b[43mna_sentinel\u001b[49m\u001b[38;5;241;43m=\u001b[39;49m\u001b[43mna_sentinel\u001b[49m\u001b[43m,\u001b[49m\n\u001b[1;32m    581\u001b[0m \u001b[43m    \u001b[49m\u001b[43mna_value\u001b[49m\u001b[38;5;241;43m=\u001b[39;49m\u001b[43mna_value\u001b[49m\u001b[43m,\u001b[49m\n\u001b[1;32m    582\u001b[0m \u001b[43m    \u001b[49m\u001b[43mmask\u001b[49m\u001b[38;5;241;43m=\u001b[39;49m\u001b[43mmask\u001b[49m\u001b[43m,\u001b[49m\n\u001b[1;32m    583\u001b[0m \u001b[43m    \u001b[49m\u001b[43mignore_na\u001b[49m\u001b[38;5;241;43m=\u001b[39;49m\u001b[43mignore_na\u001b[49m\u001b[43m,\u001b[49m\n\u001b[1;32m    584\u001b[0m \u001b[43m\u001b[49m\u001b[43m)\u001b[49m\n\u001b[1;32m    586\u001b[0m \u001b[38;5;66;03m# re-cast e.g. i8->dt64/td64, uint8->bool\u001b[39;00m\n\u001b[1;32m    587\u001b[0m uniques \u001b[38;5;241m=\u001b[39m _reconstruct_data(uniques, original\u001b[38;5;241m.\u001b[39mdtype, original)\n",
            "File \u001b[0;32mpandas/_libs/hashtable_class_helper.pxi:5943\u001b[0m, in \u001b[0;36mpandas._libs.hashtable.PyObjectHashTable.factorize\u001b[0;34m()\u001b[0m\n",
            "File \u001b[0;32mpandas/_libs/hashtable_class_helper.pxi:5857\u001b[0m, in \u001b[0;36mpandas._libs.hashtable.PyObjectHashTable._unique\u001b[0;34m()\u001b[0m\n",
            "\u001b[0;31mTypeError\u001b[0m: unhashable type: 'Series'"
          ]
        }
      ],
      "source": [
        "df_cross = pd.crosstab(index=[df_buy.index[0], (df_buy['구매의사 유'], df_buy['구매의사 무'])], columns=[df_buy['구매의사 무']], margins=True )\n",
        "df_cross\n",
        "df_buy.index[0]\n",
        "# pd.melt(df_buy, id_vars=[])"
      ]
    },
    {
      "cell_type": "markdown",
      "id": "2a6d7d40",
      "metadata": {
        "id": "2a6d7d40"
      },
      "source": [
        "- Before와 After 범주형이기 때문에 맥니마로 풀어야 한다고 함\n",
        "- Before와 After 변수의 값이 연속형이면 paired t-test를 통해 모평균의 차가 0인지 검정\n",
        "\n",
        "```python\n",
        "\n",
        "from statsmodels.stats.contingency_tables import mcnemar\n",
        "```\n",
        "\n",
        "**syntax:**\n",
        "\n",
        "mcnemar(table, exact=True, correction=True)\n",
        "\n",
        "**parameters:**\n",
        "- table: It represents the square contingency table\n",
        "- exact = True: The binomial distribution will be used.\n",
        "- exact = False: The Chi-Square distribution will be used\n",
        "- correction = True: Then the continuity correction would be used. As a rule. this correction would be applied any cell counts in the table is not more than 4\n"
      ]
    },
    {
      "cell_type": "code",
      "execution_count": null,
      "id": "5849bef4",
      "metadata": {
        "id": "5849bef4",
        "outputId": "45dfa261-8d25-48a8-b3d9-fa6e25b1a2a2"
      },
      "outputs": [
        {
          "name": "stdout",
          "output_type": "stream",
          "text": [
            "\n",
            "- p-value: 1.0\n",
            "- stat: 0.0\n",
            "\n"
          ]
        }
      ],
      "source": [
        "from statsmodels.stats.contingency_tables import mcnemar\n",
        "\n",
        "# mcnemar(df_buy, exact=True, correction=False)\n",
        "mn_result = mcnemar(df_buy, exact=True)\n",
        "p_val = mn_result.pvalue\n",
        "mn_stat = mn_result.statistic\n",
        "print(f'''\n",
        "- p-value: {p_val}\n",
        "- stat: {mn_stat}\n",
        "''')\n",
        "\n"
      ]
    },
    {
      "cell_type": "markdown",
      "id": "d283b68f",
      "metadata": {
        "id": "d283b68f"
      },
      "source": [
        "**맥니마 검정**의 귀무가설과 대립가설\n",
        "- 귀무가설(H0): $p_b = p_c$\n",
        "- 대립가설(H1): $p_b \\neq p_c$\n",
        "\n",
        "검정통계량\n",
        "$X^2 = \\dfrac{(b-c)^2}{b+c} . (자유도=1)$"
      ]
    },
    {
      "cell_type": "markdown",
      "id": "121aabde",
      "metadata": {
        "id": "121aabde"
      },
      "source": [
        "#### 맥니마 검정 샘플 1\n",
        "\n",
        "url : https://towardsdatascience.com/mcnemars-test-with-python-e1bab328d15c"
      ]
    },
    {
      "cell_type": "code",
      "execution_count": null,
      "id": "306ec25c",
      "metadata": {
        "id": "306ec25c",
        "outputId": "f370dd52-1e3d-44d6-d2bd-d20975454c02"
      },
      "outputs": [
        {
          "data": {
            "text/html": [
              "<div>\n",
              "<style scoped>\n",
              "    .dataframe tbody tr th:only-of-type {\n",
              "        vertical-align: middle;\n",
              "    }\n",
              "\n",
              "    .dataframe tbody tr th {\n",
              "        vertical-align: top;\n",
              "    }\n",
              "\n",
              "    .dataframe thead th {\n",
              "        text-align: right;\n",
              "    }\n",
              "</style>\n",
              "<table border=\"1\" class=\"dataframe\">\n",
              "  <thead>\n",
              "    <tr style=\"text-align: right;\">\n",
              "      <th></th>\n",
              "      <th>Before Ad Screening</th>\n",
              "      <th>After Ad Screening</th>\n",
              "    </tr>\n",
              "  </thead>\n",
              "  <tbody>\n",
              "    <tr>\n",
              "      <th>95</th>\n",
              "      <td>Mitsubishi</td>\n",
              "      <td>Mitsubishi</td>\n",
              "    </tr>\n",
              "    <tr>\n",
              "      <th>96</th>\n",
              "      <td>Mitsubishi</td>\n",
              "      <td>Mitsubishi</td>\n",
              "    </tr>\n",
              "    <tr>\n",
              "      <th>97</th>\n",
              "      <td>Mitsubishi</td>\n",
              "      <td>Mitsubishi</td>\n",
              "    </tr>\n",
              "    <tr>\n",
              "      <th>98</th>\n",
              "      <td>Mitsubishi</td>\n",
              "      <td>Mitsubishi</td>\n",
              "    </tr>\n",
              "    <tr>\n",
              "      <th>99</th>\n",
              "      <td>Mitsubishi</td>\n",
              "      <td>Mitsubishi</td>\n",
              "    </tr>\n",
              "  </tbody>\n",
              "</table>\n",
              "</div>"
            ],
            "text/plain": [
              "   Before Ad Screening After Ad Screening\n",
              "95          Mitsubishi         Mitsubishi\n",
              "96          Mitsubishi         Mitsubishi\n",
              "97          Mitsubishi         Mitsubishi\n",
              "98          Mitsubishi         Mitsubishi\n",
              "99          Mitsubishi         Mitsubishi"
            ]
          },
          "metadata": {},
          "output_type": "display_data"
        },
        {
          "data": {
            "text/html": [
              "<div>\n",
              "<style scoped>\n",
              "    .dataframe tbody tr th:only-of-type {\n",
              "        vertical-align: middle;\n",
              "    }\n",
              "\n",
              "    .dataframe tbody tr th {\n",
              "        vertical-align: top;\n",
              "    }\n",
              "\n",
              "    .dataframe thead th {\n",
              "        text-align: right;\n",
              "    }\n",
              "</style>\n",
              "<table border=\"1\" class=\"dataframe\">\n",
              "  <thead>\n",
              "    <tr style=\"text-align: right;\">\n",
              "      <th>After Ad Screening</th>\n",
              "      <th>Mitsubishi</th>\n",
              "      <th>Toyota</th>\n",
              "      <th>Total</th>\n",
              "    </tr>\n",
              "    <tr>\n",
              "      <th>Before Ad Screening</th>\n",
              "      <th></th>\n",
              "      <th></th>\n",
              "      <th></th>\n",
              "    </tr>\n",
              "  </thead>\n",
              "  <tbody>\n",
              "    <tr>\n",
              "      <th>Mitsubishi</th>\n",
              "      <td>25</td>\n",
              "      <td>15</td>\n",
              "      <td>40</td>\n",
              "    </tr>\n",
              "    <tr>\n",
              "      <th>Toyota</th>\n",
              "      <td>5</td>\n",
              "      <td>55</td>\n",
              "      <td>60</td>\n",
              "    </tr>\n",
              "    <tr>\n",
              "      <th>Total</th>\n",
              "      <td>30</td>\n",
              "      <td>70</td>\n",
              "      <td>100</td>\n",
              "    </tr>\n",
              "  </tbody>\n",
              "</table>\n",
              "</div>"
            ],
            "text/plain": [
              "After Ad Screening   Mitsubishi  Toyota  Total\n",
              "Before Ad Screening                           \n",
              "Mitsubishi                   25      15     40\n",
              "Toyota                        5      55     60\n",
              "Total                        30      70    100"
            ]
          },
          "metadata": {},
          "output_type": "display_data"
        }
      ],
      "source": [
        "import pandas as pd\n",
        "import scipy.stats as stats\n",
        "\n",
        "# create sample data according to survey\n",
        "data = [['Toyota', 'Toyota'] for i in range(55)] + \\\n",
        "       [['Toyota', 'Mitsubishi'] for i in range(5)] + \\\n",
        "       [['Mitsubishi', 'Toyota'] for i in range(15)] + \\\n",
        "       [['Mitsubishi', 'Mitsubishi'] for i in range(25)]\n",
        "df = pd.DataFrame(data, columns = ['Before Ad Screening', 'After Ad Screening']) \n",
        "\n",
        "display(df.tail())\n",
        "\n",
        "# create contingency table\n",
        "data_crosstab = pd.crosstab(df['Before Ad Screening'],\n",
        "                            df['After Ad Screening'],\n",
        "                            margins=True, margins_name=\"Total\")\n",
        "display(data_crosstab)"
      ]
    },
    {
      "cell_type": "code",
      "execution_count": null,
      "id": "63daf720",
      "metadata": {
        "id": "63daf720",
        "outputId": "b9a1c136-f5e8-4dcb-f688-a0577170d379"
      },
      "outputs": [
        {
          "data": {
            "text/html": [
              "<div>\n",
              "<style scoped>\n",
              "    .dataframe tbody tr th:only-of-type {\n",
              "        vertical-align: middle;\n",
              "    }\n",
              "\n",
              "    .dataframe tbody tr th {\n",
              "        vertical-align: top;\n",
              "    }\n",
              "\n",
              "    .dataframe thead th {\n",
              "        text-align: right;\n",
              "    }\n",
              "</style>\n",
              "<table border=\"1\" class=\"dataframe\">\n",
              "  <thead>\n",
              "    <tr style=\"text-align: right;\">\n",
              "      <th>After Ad Screening</th>\n",
              "      <th>Mitsubishi</th>\n",
              "      <th>Toyota</th>\n",
              "    </tr>\n",
              "    <tr>\n",
              "      <th>Before Ad Screening</th>\n",
              "      <th></th>\n",
              "      <th></th>\n",
              "    </tr>\n",
              "  </thead>\n",
              "  <tbody>\n",
              "    <tr>\n",
              "      <th>Mitsubishi</th>\n",
              "      <td>25</td>\n",
              "      <td>15</td>\n",
              "    </tr>\n",
              "    <tr>\n",
              "      <th>Toyota</th>\n",
              "      <td>5</td>\n",
              "      <td>55</td>\n",
              "    </tr>\n",
              "  </tbody>\n",
              "</table>\n",
              "</div>"
            ],
            "text/plain": [
              "After Ad Screening   Mitsubishi  Toyota\n",
              "Before Ad Screening                    \n",
              "Mitsubishi                   25      15\n",
              "Toyota                        5      55"
            ]
          },
          "metadata": {},
          "output_type": "display_data"
        },
        {
          "name": "stdout",
          "output_type": "stream",
          "text": [
            "pvalue      0.04138946533203125\n",
            "statistic   5.0\n"
          ]
        }
      ],
      "source": [
        "df_cro1 = pd.crosstab(df['Before Ad Screening'], df['After Ad Screening'])\n",
        "display(df_cro1)\n",
        "print(mcnemar(df_cro1))"
      ]
    },
    {
      "cell_type": "code",
      "execution_count": null,
      "id": "94b265e1",
      "metadata": {
        "id": "94b265e1",
        "outputId": "c10a1bd3-4d5d-4dfe-f6a0-fffae7e3f503"
      },
      "outputs": [
        {
          "name": "stdout",
          "output_type": "stream",
          "text": [
            "\n",
            "- rows:['Toyota' 'Mitsubishi']\n",
            "- cols:['Toyota' 'Mitsubishi']\n",
            "- mcnemar :4.05\n",
            "\n"
          ]
        }
      ],
      "source": [
        "\n",
        "# significance level\n",
        "alpha = 0.01\n",
        "\n",
        "# Calcualtion of McNemar's statistic\n",
        "rows = df['Before Ad Screening'].unique()\n",
        "columns = df['After Ad Screening'].unique()\n",
        "mcnemar = (abs(data_crosstab['Toyota']['Mitsubishi'] - data_crosstab['Mitsubishi']['Toyota']) - 1)**2 / (data_crosstab['Toyota']['Mitsubishi'] + data_crosstab['Mitsubishi']['Toyota'])\n",
        "print(f'''\n",
        "- rows:{rows}\n",
        "- cols:{columns}\n",
        "- mcnemar :{mcnemar}\n",
        "''')"
      ]
    },
    {
      "cell_type": "code",
      "execution_count": null,
      "id": "689ab6e6",
      "metadata": {
        "id": "689ab6e6",
        "outputId": "8d14b77f-3a08-4fd0-b847-dddd11c8a111"
      },
      "outputs": [
        {
          "name": "stdout",
          "output_type": "stream",
          "text": [
            "Approach 1: The p-value approach to hypothesis testing in the decision rule\n",
            "McNemar's statistic is: 4.05  and p value is: 0.044171344908442656\n",
            "Failed to reject the null hypothesis.\n"
          ]
        }
      ],
      "source": [
        "# The p-value approach\n",
        "print(\"Approach 1: The p-value approach to hypothesis testing in the decision rule\")\n",
        "p_value = 1 - stats.chi2.cdf(mcnemar, (len(rows)-1)*(len(columns)-1))\n",
        "conclusion = \"Failed to reject the null hypothesis.\"\n",
        "if p_value <= alpha:\n",
        "    conclusion = \"Null Hypothesis is rejected.\"\n",
        "        \n",
        "print(\"McNemar's statistic is:\", mcnemar, \" and p value is:\", p_value)\n",
        "print(conclusion)"
      ]
    },
    {
      "cell_type": "code",
      "execution_count": null,
      "id": "0087a265",
      "metadata": {
        "id": "0087a265",
        "outputId": "692cf475-3158-486f-b3f0-ab129f8f4033"
      },
      "outputs": [
        {
          "name": "stdout",
          "output_type": "stream",
          "text": [
            "\n",
            "--------------------------------------------------------------------------------------\n",
            "Approach 2: The critical value approach to hypothesis testing in the decision rule\n",
            "McNemar's statistic is: 4.05  and critical value is: 6.6348966010212145\n",
            "Failed to reject the null hypothesis.\n"
          ]
        }
      ],
      "source": [
        "    \n",
        "# The critical value approach\n",
        "print(\"\\n--------------------------------------------------------------------------------------\")\n",
        "print(\"Approach 2: The critical value approach to hypothesis testing in the decision rule\")\n",
        "critical_value = stats.chi2.ppf(1-alpha, (len(rows)-1)*(len(columns)-1))\n",
        "conclusion = \"Failed to reject the null hypothesis.\"\n",
        "if mcnemar > critical_value:\n",
        "    conclusion = \"Null Hypothesis is rejected.\"\n",
        "        \n",
        "print(\"McNemar's statistic is:\", mcnemar, \" and critical value is:\", critical_value)\n",
        "print(conclusion)"
      ]
    },
    {
      "cell_type": "markdown",
      "id": "a05e3226",
      "metadata": {
        "id": "a05e3226"
      },
      "source": [
        "#### 맥니마 검정 샘플 2\n",
        "\n",
        "url : https://towardsdatascience.com/mcnemars-test-with-python-e1bab328d15c\n",
        "\n",
        "\n",
        "![mcnemar](https://miro.medium.com/v2/resize:fit:1400/format:webp/1*vGOypsjgP47yiDSnIHjsYg.png)"
      ]
    },
    {
      "cell_type": "code",
      "execution_count": null,
      "id": "0fbac71b",
      "metadata": {
        "id": "0fbac71b",
        "outputId": "bd76b476-a9fd-4633-84b1-8da81b064919"
      },
      "outputs": [
        {
          "data": {
            "text/html": [
              "<div>\n",
              "<style scoped>\n",
              "    .dataframe tbody tr th:only-of-type {\n",
              "        vertical-align: middle;\n",
              "    }\n",
              "\n",
              "    .dataframe tbody tr th {\n",
              "        vertical-align: top;\n",
              "    }\n",
              "\n",
              "    .dataframe thead tr th {\n",
              "        text-align: left;\n",
              "    }\n",
              "</style>\n",
              "<table border=\"1\" class=\"dataframe\">\n",
              "  <thead>\n",
              "    <tr>\n",
              "      <th></th>\n",
              "      <th colspan=\"2\" halign=\"left\">any_emergency_room_visit</th>\n",
              "    </tr>\n",
              "    <tr>\n",
              "      <th></th>\n",
              "      <th>Treatment B</th>\n",
              "      <th>Treatment A</th>\n",
              "    </tr>\n",
              "  </thead>\n",
              "  <tbody>\n",
              "    <tr>\n",
              "      <th>0</th>\n",
              "      <td>No</td>\n",
              "      <td>No</td>\n",
              "    </tr>\n",
              "    <tr>\n",
              "      <th>1</th>\n",
              "      <td>No</td>\n",
              "      <td>No</td>\n",
              "    </tr>\n",
              "    <tr>\n",
              "      <th>2</th>\n",
              "      <td>No</td>\n",
              "      <td>No</td>\n",
              "    </tr>\n",
              "    <tr>\n",
              "      <th>3</th>\n",
              "      <td>No</td>\n",
              "      <td>No</td>\n",
              "    </tr>\n",
              "    <tr>\n",
              "      <th>4</th>\n",
              "      <td>No</td>\n",
              "      <td>No</td>\n",
              "    </tr>\n",
              "  </tbody>\n",
              "</table>\n",
              "</div>"
            ],
            "text/plain": [
              "  any_emergency_room_visit            \n",
              "               Treatment B Treatment A\n",
              "0                       No          No\n",
              "1                       No          No\n",
              "2                       No          No\n",
              "3                       No          No\n",
              "4                       No          No"
            ]
          },
          "metadata": {},
          "output_type": "display_data"
        },
        {
          "data": {
            "text/html": [
              "<div>\n",
              "<style scoped>\n",
              "    .dataframe tbody tr th:only-of-type {\n",
              "        vertical-align: middle;\n",
              "    }\n",
              "\n",
              "    .dataframe tbody tr th {\n",
              "        vertical-align: top;\n",
              "    }\n",
              "\n",
              "    .dataframe thead tr th {\n",
              "        text-align: left;\n",
              "    }\n",
              "\n",
              "    .dataframe thead tr:last-of-type th {\n",
              "        text-align: right;\n",
              "    }\n",
              "</style>\n",
              "<table border=\"1\" class=\"dataframe\">\n",
              "  <thead>\n",
              "    <tr>\n",
              "      <th></th>\n",
              "      <th colspan=\"3\" halign=\"left\">any_emergency_room_visit</th>\n",
              "    </tr>\n",
              "    <tr>\n",
              "      <th>Treatment A</th>\n",
              "      <th>No</th>\n",
              "      <th>Yes</th>\n",
              "      <th>Total</th>\n",
              "    </tr>\n",
              "    <tr>\n",
              "      <th>Treatment B</th>\n",
              "      <th></th>\n",
              "      <th></th>\n",
              "      <th></th>\n",
              "    </tr>\n",
              "  </thead>\n",
              "  <tbody>\n",
              "    <tr>\n",
              "      <th>No</th>\n",
              "      <td>71</td>\n",
              "      <td>50</td>\n",
              "      <td>121</td>\n",
              "    </tr>\n",
              "    <tr>\n",
              "      <th>Yes</th>\n",
              "      <td>24</td>\n",
              "      <td>55</td>\n",
              "      <td>79</td>\n",
              "    </tr>\n",
              "    <tr>\n",
              "      <th>Total</th>\n",
              "      <td>95</td>\n",
              "      <td>105</td>\n",
              "      <td>200</td>\n",
              "    </tr>\n",
              "  </tbody>\n",
              "</table>\n",
              "</div>"
            ],
            "text/plain": [
              "            any_emergency_room_visit           \n",
              "Treatment A                       No  Yes Total\n",
              "Treatment B                                    \n",
              "No                                71   50   121\n",
              "Yes                               24   55    79\n",
              "Total                             95  105   200"
            ]
          },
          "metadata": {},
          "output_type": "display_data"
        },
        {
          "name": "stdout",
          "output_type": "stream",
          "text": [
            "\n",
            "- rows: ['No' 'Yes']\n",
            "- cols: ['No' 'Yes']\n",
            "- mcnemar: 8.445945945945946\n",
            "\n",
            "Approach 1: The p-value approach to hypothesis testing in the decision rule\n",
            "McNemar's statistic is: 8.445945945945946  and p value is: 0.003658580873555639\n",
            "Null Hypothesis is rejected.\n",
            "\n",
            "--------------------------------------------------------------------------------------\n",
            "Approach 2: The critical value approach to hypothesis testing in the decision rule\n",
            "McNemar's statistic is: 8.445945945945946  and critical value is: 6.6348966010212145\n",
            "Null Hypothesis is rejected.\n",
            "====================\n"
          ]
        },
        {
          "ename": "TypeError",
          "evalue": "'numpy.float64' object is not callable",
          "output_type": "error",
          "traceback": [
            "\u001b[0;31m---------------------------------------------------------------------------\u001b[0m",
            "\u001b[0;31mTypeError\u001b[0m                                 Traceback (most recent call last)",
            "Cell \u001b[0;32mIn[111], line 57\u001b[0m\n\u001b[1;32m     54\u001b[0m \u001b[38;5;28mprint\u001b[39m(conclusion)\n\u001b[1;32m     56\u001b[0m \u001b[38;5;28mprint\u001b[39m(\u001b[38;5;124m'\u001b[39m\u001b[38;5;124m=\u001b[39m\u001b[38;5;124m'\u001b[39m\u001b[38;5;241m*\u001b[39m\u001b[38;5;241m20\u001b[39m)\n\u001b[0;32m---> 57\u001b[0m \u001b[38;5;28mprint\u001b[39m(\u001b[43mmcnemar\u001b[49m\u001b[43m(\u001b[49m\u001b[43mdata_crosstab\u001b[49m\u001b[43m,\u001b[49m\u001b[43m \u001b[49m\u001b[43mexact\u001b[49m\u001b[38;5;241;43m=\u001b[39;49m\u001b[38;5;28;43;01mFalse\u001b[39;49;00m\u001b[43m)\u001b[49m)\n",
            "\u001b[0;31mTypeError\u001b[0m: 'numpy.float64' object is not callable"
          ]
        }
      ],
      "source": [
        "import pandas as pd\n",
        "import scipy.stats as stats\n",
        "from statsmodels.stats.contingency_tables import mcnemar\n",
        "\n",
        "# create sample data according to survey\n",
        "data = [['No', 'No'] for i in range(71)] + \\\n",
        "       [['No', 'Yes'] for i in range(50)] + \\\n",
        "       [['Yes', 'No'] for i in range(24)] + \\\n",
        "       [['Yes', 'Yes'] for i in range(55)]\n",
        "df = pd.DataFrame(data, columns = ['Treatment B', 'Treatment A']) \n",
        "df.columns = pd.MultiIndex.from_product([['any_emergency_room_visit'], df.columns])\n",
        "display(df.head())\n",
        "\n",
        "# create contingency table\n",
        "data_crosstab = pd.crosstab(df['any_emergency_room_visit']['Treatment B'],\n",
        "                            df['any_emergency_room_visit']['Treatment A'],\n",
        "                            margins=True, margins_name=\"Total\")\n",
        "data_crosstab.columns = pd.MultiIndex.from_product([['any_emergency_room_visit'], data_crosstab.columns])\n",
        "display(data_crosstab)\n",
        "\n",
        "# significance level\n",
        "alpha = 0.01\n",
        "\n",
        "# Calcualtion of McNemar's statistic\n",
        "rows = df['any_emergency_room_visit']['Treatment B'].unique()\n",
        "columns = df['any_emergency_room_visit']['Treatment A'].unique()\n",
        "mcnemar = (abs(data_crosstab['any_emergency_room_visit']['Yes']['No'] - data_crosstab['any_emergency_room_visit']['No']['Yes']) - 1)**2 / (data_crosstab['any_emergency_room_visit']['Yes']['No'] + data_crosstab['any_emergency_room_visit']['No']['Yes'])\n",
        "\n",
        "print(f'''\n",
        "- rows: {rows}\n",
        "- cols: {columns}\n",
        "- mcnemar: {mcnemar}\n",
        "''')\n",
        "\n",
        "# The p-value approach\n",
        "print(\"Approach 1: The p-value approach to hypothesis testing in the decision rule\")\n",
        "p_value = 1 - stats.chi2.cdf(mcnemar, (len(rows)-1)*(len(columns)-1))\n",
        "conclusion = \"Failed to reject the null hypothesis.\"\n",
        "if p_value <= alpha:\n",
        "    conclusion = \"Null Hypothesis is rejected.\"\n",
        "        \n",
        "print(\"McNemar's statistic is:\", mcnemar, \" and p value is:\", p_value)\n",
        "print(conclusion)\n",
        "    \n",
        "# The critical value approach\n",
        "print(\"\\n--------------------------------------------------------------------------------------\")\n",
        "print(\"Approach 2: The critical value approach to hypothesis testing in the decision rule\")\n",
        "critical_value = stats.chi2.ppf(1-alpha, (len(rows)-1)*(len(columns)-1))\n",
        "conclusion = \"Failed to reject the null hypothesis.\"\n",
        "if mcnemar > critical_value:\n",
        "    conclusion = \"Null Hypothesis is rejected.\"\n",
        "        \n",
        "print(\"McNemar's statistic is:\", mcnemar, \" and critical value is:\", critical_value)\n",
        "print(conclusion)\n",
        "\n",
        "print('='*20)\n",
        "print(mcnemar(data_crosstab, exact=False))"
      ]
    },
    {
      "cell_type": "code",
      "execution_count": null,
      "id": "9eff2c83",
      "metadata": {
        "id": "9eff2c83",
        "outputId": "b2e3febb-7f56-4c3c-e4ce-39ad38af7ab3"
      },
      "outputs": [
        {
          "data": {
            "text/html": [
              "<div>\n",
              "<style scoped>\n",
              "    .dataframe tbody tr th:only-of-type {\n",
              "        vertical-align: middle;\n",
              "    }\n",
              "\n",
              "    .dataframe tbody tr th {\n",
              "        vertical-align: top;\n",
              "    }\n",
              "\n",
              "    .dataframe thead th {\n",
              "        text-align: right;\n",
              "    }\n",
              "</style>\n",
              "<table border=\"1\" class=\"dataframe\">\n",
              "  <thead>\n",
              "    <tr style=\"text-align: right;\">\n",
              "      <th></th>\n",
              "      <th>시식전</th>\n",
              "      <th>시식후</th>\n",
              "    </tr>\n",
              "  </thead>\n",
              "  <tbody>\n",
              "    <tr>\n",
              "      <th>0</th>\n",
              "      <td>No</td>\n",
              "      <td>No</td>\n",
              "    </tr>\n",
              "    <tr>\n",
              "      <th>1</th>\n",
              "      <td>No</td>\n",
              "      <td>No</td>\n",
              "    </tr>\n",
              "    <tr>\n",
              "      <th>2</th>\n",
              "      <td>No</td>\n",
              "      <td>No</td>\n",
              "    </tr>\n",
              "    <tr>\n",
              "      <th>3</th>\n",
              "      <td>No</td>\n",
              "      <td>No</td>\n",
              "    </tr>\n",
              "    <tr>\n",
              "      <th>4</th>\n",
              "      <td>No</td>\n",
              "      <td>No</td>\n",
              "    </tr>\n",
              "  </tbody>\n",
              "</table>\n",
              "</div>"
            ],
            "text/plain": [
              "  시식전 시식후\n",
              "0  No  No\n",
              "1  No  No\n",
              "2  No  No\n",
              "3  No  No\n",
              "4  No  No"
            ]
          },
          "metadata": {},
          "output_type": "display_data"
        },
        {
          "data": {
            "text/html": [
              "<div>\n",
              "<style scoped>\n",
              "    .dataframe tbody tr th:only-of-type {\n",
              "        vertical-align: middle;\n",
              "    }\n",
              "\n",
              "    .dataframe tbody tr th {\n",
              "        vertical-align: top;\n",
              "    }\n",
              "\n",
              "    .dataframe thead th {\n",
              "        text-align: right;\n",
              "    }\n",
              "</style>\n",
              "<table border=\"1\" class=\"dataframe\">\n",
              "  <thead>\n",
              "    <tr style=\"text-align: right;\">\n",
              "      <th>시식후</th>\n",
              "      <th>No</th>\n",
              "      <th>Yes</th>\n",
              "    </tr>\n",
              "    <tr>\n",
              "      <th>시식전</th>\n",
              "      <th></th>\n",
              "      <th></th>\n",
              "    </tr>\n",
              "  </thead>\n",
              "  <tbody>\n",
              "    <tr>\n",
              "      <th>No</th>\n",
              "      <td>12</td>\n",
              "      <td>17</td>\n",
              "    </tr>\n",
              "    <tr>\n",
              "      <th>Yes</th>\n",
              "      <td>8</td>\n",
              "      <td>23</td>\n",
              "    </tr>\n",
              "  </tbody>\n",
              "</table>\n",
              "</div>"
            ],
            "text/plain": [
              "시식후  No  Yes\n",
              "시식전         \n",
              "No   12   17\n",
              "Yes   8   23"
            ]
          },
          "metadata": {},
          "output_type": "display_data"
        },
        {
          "name": "stdout",
          "output_type": "stream",
          "text": [
            "\n",
            "- rows: ['No' 'Yes']\n",
            "- cols: ['No' 'Yes']\n",
            "- mcnemar: 3.24\n",
            "\n",
            "============= 수식으로 검정한 맥니마 검정통계량 및 P-VALUE ===========\n",
            "맥니마 검정 통계량: 3.24 , p-value: 0.07186063822585143\n",
            "귀무가설이 통계적으로 유의하다.\n",
            "============= mcnemar 함수를 이용한 검정통계량 및 P-VALUE ============\n",
            "<class 'pandas.core.frame.DataFrame'>\n",
            "Index: 2 entries, No to Yes\n",
            "Data columns (total 2 columns):\n",
            " #   Column  Non-Null Count  Dtype\n",
            "---  ------  --------------  -----\n",
            " 0   No      2 non-null      int64\n",
            " 1   Yes     2 non-null      int64\n",
            "dtypes: int64(2)\n",
            "memory usage: 156.0+ bytes\n",
            "None\n",
            "(2, 2)\n",
            "Index: Index(['No', 'Yes'], dtype='object', name='시식전')\n",
            "Columns: Index(['No', 'Yes'], dtype='object', name='시식후')\n",
            "Type: <class 'numpy.ndarray'>\n",
            "Value: [[12 17]\n",
            " [ 8 23]]\n",
            "pvalue      0.10775214433670044\n",
            "statistic   8.0\n"
          ]
        }
      ],
      "source": [
        "import pandas as pd\n",
        "import scipy.stats as stats\n",
        "from statsmodels.stats.contingency_tables import mcnemar\n",
        "# 샘플데이터 생성\n",
        "data = [['No', 'No'] for i in range(12)] + \\\n",
        "       [['No', 'Yes'] for i in range(17)] + \\\n",
        "       [['Yes', 'No'] for i in range(8)] + \\\n",
        "       [['Yes', 'Yes'] for i in range(23)]\n",
        "df = pd.DataFrame(data, columns = ['시식전', '시식후']) \n",
        "# df.columns = pd.MultiIndex.from_product([['any_emergency_room_visit'], df.columns])\n",
        "display(df.head())\n",
        "\n",
        "# crosstab 변환\n",
        "data_crosstab = pd.crosstab(df['시식전'],\n",
        "                            df['시식후'], colnames=['시식후'], rownames=['시식전'])\n",
        "# data_crosstab.columns = pd.MultiIndex.from_product([['any_emergency_room_visit'], data_crosstab.columns])\n",
        "display(data_crosstab)\n",
        "\n",
        "\n",
        "\n",
        "# McNemar's 검텅통계량 계산\n",
        "rows = df['시식전'].unique()\n",
        "columns = df['시식후'].unique()\n",
        "mcnemar_stat = ((data_crosstab['No']['Yes'] - data_crosstab['Yes']['No'])**2 /\n",
        "            (data_crosstab['No']['Yes'] + data_crosstab['Yes']['No']))\n",
        "\n",
        "print(f'''\n",
        "- rows: {rows}\n",
        "- cols: {columns}\n",
        "- mcnemar: {mcnemar_stat}\n",
        "''')\n",
        "\n",
        "# 유의수준 a\n",
        "alpha = 0.05\n",
        "\n",
        "# p-value \n",
        "p_value = 1 - stats.chi2.cdf(mcnemar_stat, (len(rows)-1)*(len(columns)-1))\n",
        "conclusion = \"귀무가설이 통계적으로 유의하다.\"\n",
        "if p_value <= alpha:\n",
        "    conclusion = \"귀무가설을 기각한다.\"\n",
        "\n",
        "\n",
        "print('============= 수식으로 검정한 맥니마 검정통계량 및 P-VALUE ===========')\n",
        "print(\"맥니마 검정 통계량:\", mcnemar_stat, \", p-value:\", p_value)\n",
        "print(conclusion)\n",
        "\n",
        "print('============= mcnemar 함수를 이용한 검정통계량 및 P-VALUE ============')\n",
        "print(data_crosstab.info())\n",
        "print(data_crosstab.shape)\n",
        "print('Index:', data_crosstab.index)\n",
        "print('Columns:', data_crosstab.columns)\n",
        "arr_cross = data_crosstab.to_numpy()\n",
        "print('Type:', type(arr_cross))\n",
        "print('Value:', arr_cross)\n",
        "ar = [[23, 8],\n",
        "     [17, 12]]\n",
        "print(mcnemar(ar))\n"
      ]
    },
    {
      "cell_type": "code",
      "execution_count": null,
      "id": "4cccd1ff",
      "metadata": {
        "id": "4cccd1ff",
        "outputId": "b0f2d988-a76a-4615-885d-a51a02933187"
      },
      "outputs": [
        {
          "data": {
            "text/html": [
              "<div>\n",
              "<style scoped>\n",
              "    .dataframe tbody tr th:only-of-type {\n",
              "        vertical-align: middle;\n",
              "    }\n",
              "\n",
              "    .dataframe tbody tr th {\n",
              "        vertical-align: top;\n",
              "    }\n",
              "\n",
              "    .dataframe thead th {\n",
              "        text-align: right;\n",
              "    }\n",
              "</style>\n",
              "<table border=\"1\" class=\"dataframe\">\n",
              "  <thead>\n",
              "    <tr style=\"text-align: right;\">\n",
              "      <th></th>\n",
              "      <th>Treatment B</th>\n",
              "      <th>Treatment A</th>\n",
              "    </tr>\n",
              "  </thead>\n",
              "  <tbody>\n",
              "    <tr>\n",
              "      <th>0</th>\n",
              "      <td>Yes</td>\n",
              "      <td>Yes</td>\n",
              "    </tr>\n",
              "    <tr>\n",
              "      <th>1</th>\n",
              "      <td>Yes</td>\n",
              "      <td>Yes</td>\n",
              "    </tr>\n",
              "    <tr>\n",
              "      <th>2</th>\n",
              "      <td>Yes</td>\n",
              "      <td>Yes</td>\n",
              "    </tr>\n",
              "    <tr>\n",
              "      <th>3</th>\n",
              "      <td>Yes</td>\n",
              "      <td>Yes</td>\n",
              "    </tr>\n",
              "    <tr>\n",
              "      <th>4</th>\n",
              "      <td>Yes</td>\n",
              "      <td>Yes</td>\n",
              "    </tr>\n",
              "  </tbody>\n",
              "</table>\n",
              "</div>"
            ],
            "text/plain": [
              "  Treatment B Treatment A\n",
              "0         Yes         Yes\n",
              "1         Yes         Yes\n",
              "2         Yes         Yes\n",
              "3         Yes         Yes\n",
              "4         Yes         Yes"
            ]
          },
          "metadata": {},
          "output_type": "display_data"
        },
        {
          "name": "stdout",
          "output_type": "stream",
          "text": [
            "Shape: (200, 2)\n"
          ]
        },
        {
          "data": {
            "text/html": [
              "<div>\n",
              "<style scoped>\n",
              "    .dataframe tbody tr th:only-of-type {\n",
              "        vertical-align: middle;\n",
              "    }\n",
              "\n",
              "    .dataframe tbody tr th {\n",
              "        vertical-align: top;\n",
              "    }\n",
              "\n",
              "    .dataframe thead th {\n",
              "        text-align: right;\n",
              "    }\n",
              "</style>\n",
              "<table border=\"1\" class=\"dataframe\">\n",
              "  <thead>\n",
              "    <tr style=\"text-align: right;\">\n",
              "      <th>Treatment A</th>\n",
              "      <th>No</th>\n",
              "      <th>Yes</th>\n",
              "    </tr>\n",
              "    <tr>\n",
              "      <th>Treatment B</th>\n",
              "      <th></th>\n",
              "      <th></th>\n",
              "    </tr>\n",
              "  </thead>\n",
              "  <tbody>\n",
              "    <tr>\n",
              "      <th>No</th>\n",
              "      <td>55</td>\n",
              "      <td>24</td>\n",
              "    </tr>\n",
              "    <tr>\n",
              "      <th>Yes</th>\n",
              "      <td>50</td>\n",
              "      <td>71</td>\n",
              "    </tr>\n",
              "  </tbody>\n",
              "</table>\n",
              "</div>"
            ],
            "text/plain": [
              "Treatment A  No  Yes\n",
              "Treatment B         \n",
              "No           55   24\n",
              "Yes          50   71"
            ]
          },
          "metadata": {},
          "output_type": "display_data"
        },
        {
          "ename": "TypeError",
          "evalue": "'numpy.float64' object is not callable",
          "output_type": "error",
          "traceback": [
            "\u001b[0;31m---------------------------------------------------------------------------\u001b[0m",
            "\u001b[0;31mTypeError\u001b[0m                                 Traceback (most recent call last)",
            "Cell \u001b[0;32mIn[91], line 14\u001b[0m\n\u001b[1;32m      9\u001b[0m data_crosstab \u001b[38;5;241m=\u001b[39m pd\u001b[38;5;241m.\u001b[39mcrosstab(df[\u001b[38;5;124m'\u001b[39m\u001b[38;5;124mTreatment B\u001b[39m\u001b[38;5;124m'\u001b[39m],\n\u001b[1;32m     10\u001b[0m                             df[\u001b[38;5;124m'\u001b[39m\u001b[38;5;124mTreatment A\u001b[39m\u001b[38;5;124m'\u001b[39m]\n\u001b[1;32m     11\u001b[0m                             )\n\u001b[1;32m     12\u001b[0m display(data_crosstab)\n\u001b[0;32m---> 14\u001b[0m \u001b[38;5;28mprint\u001b[39m(\u001b[43mmcnemar\u001b[49m\u001b[43m(\u001b[49m\u001b[43mdata_crosstab\u001b[49m\u001b[43m,\u001b[49m\u001b[43m \u001b[49m\u001b[43mexact\u001b[49m\u001b[38;5;241;43m=\u001b[39;49m\u001b[38;5;28;43;01mFalse\u001b[39;49;00m\u001b[43m)\u001b[49m)\n",
            "\u001b[0;31mTypeError\u001b[0m: 'numpy.float64' object is not callable"
          ]
        }
      ],
      "source": [
        "data = [['Yes', 'Yes'] for i in range(71)] + \\\n",
        "       [['Yes', 'No'] for i in range(50)] + \\\n",
        "       [['No', 'Yes'] for i in range(24)] + \\\n",
        "       [['No', 'No'] for i in range(55)]\n",
        "df = pd.DataFrame(data, columns = ['Treatment B', 'Treatment A']) \n",
        "display(df.head())\n",
        "print('Shape:', df.shape)\n",
        "# create contingency table\n",
        "data_crosstab = pd.crosstab(df['Treatment B'],\n",
        "                            df['Treatment A']\n",
        "                            )\n",
        "display(data_crosstab)\n",
        "\n",
        "print(mcnemar(data_crosstab, exact=False))"
      ]
    },
    {
      "cell_type": "markdown",
      "id": "108955a3",
      "metadata": {
        "id": "108955a3"
      },
      "source": [
        "### 28.\n",
        "\n",
        "- 통계 4번\n",
        "\n",
        "A, B지역 학생의 점수에 차이가 있는지 가설을 설정하고 검정하시오\n",
        "\n",
        "- A:[10, 20, 30, 40, 50 ...]  . 데이터 10개 내외\n",
        "- B:[10, 20, 30, 40, 50 ...] . 데이터 20개 내외"
      ]
    },
    {
      "cell_type": "code",
      "execution_count": null,
      "id": "3a408a26",
      "metadata": {
        "id": "3a408a26"
      },
      "outputs": [],
      "source": []
    },
    {
      "cell_type": "code",
      "execution_count": null,
      "id": "80002a12",
      "metadata": {
        "id": "80002a12"
      },
      "outputs": [],
      "source": []
    },
    {
      "cell_type": "code",
      "execution_count": null,
      "id": "520cd42a",
      "metadata": {
        "id": "520cd42a"
      },
      "outputs": [],
      "source": []
    }
  ],
  "metadata": {
    "kernelspec": {
      "display_name": "Python 3 (ipykernel)",
      "language": "python",
      "name": "python3"
    },
    "language_info": {
      "codemirror_mode": {
        "name": "ipython",
        "version": 3
      },
      "file_extension": ".py",
      "mimetype": "text/x-python",
      "name": "python",
      "nbconvert_exporter": "python",
      "pygments_lexer": "ipython3",
      "version": "3.9.8"
    },
    "colab": {
      "provenance": [],
      "include_colab_link": true
    }
  },
  "nbformat": 4,
  "nbformat_minor": 5
}